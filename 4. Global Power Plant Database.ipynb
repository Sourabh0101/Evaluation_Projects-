{
 "cells": [
  {
   "cell_type": "markdown",
   "metadata": {},
   "source": [
    "# Global Power Plant Database project"
   ]
  },
  {
   "cell_type": "markdown",
   "metadata": {},
   "source": [
    "### Importing Libraries"
   ]
  },
  {
   "cell_type": "code",
   "execution_count": 1,
   "metadata": {},
   "outputs": [],
   "source": [
    "import pandas as pd\n",
    "import numpy as np\n",
    "import seaborn as sns\n",
    "import matplotlib.pyplot as plt\n",
    "import warnings\n",
    "warnings.filterwarnings(\"ignore\")\n",
    "from sklearn.impute import SimpleImputer\n",
    "from scipy import stats\n",
    "from sklearn.preprocessing import OneHotEncoder,LabelEncoder ,OrdinalEncoder\n",
    "from sklearn.compose import ColumnTransformer\n",
    "from sklearn.pipeline import Pipeline\n",
    "from imblearn.over_sampling import SMOTE"
   ]
  },
  {
   "cell_type": "code",
   "execution_count": 3,
   "metadata": {},
   "outputs": [],
   "source": [
    "df = pd.read_csv(\"https://raw.githubusercontent.com/wri/global-power-plant-database/master/source_databases_csv/database_IND.csv\")"
   ]
  },
  {
   "cell_type": "code",
   "execution_count": 4,
   "metadata": {},
   "outputs": [
    {
     "data": {
      "text/html": [
       "<div>\n",
       "<style scoped>\n",
       "    .dataframe tbody tr th:only-of-type {\n",
       "        vertical-align: middle;\n",
       "    }\n",
       "\n",
       "    .dataframe tbody tr th {\n",
       "        vertical-align: top;\n",
       "    }\n",
       "\n",
       "    .dataframe thead th {\n",
       "        text-align: right;\n",
       "    }\n",
       "</style>\n",
       "<table border=\"1\" class=\"dataframe\">\n",
       "  <thead>\n",
       "    <tr style=\"text-align: right;\">\n",
       "      <th></th>\n",
       "      <th>country</th>\n",
       "      <th>country_long</th>\n",
       "      <th>name</th>\n",
       "      <th>gppd_idnr</th>\n",
       "      <th>capacity_mw</th>\n",
       "      <th>latitude</th>\n",
       "      <th>longitude</th>\n",
       "      <th>primary_fuel</th>\n",
       "      <th>other_fuel1</th>\n",
       "      <th>other_fuel2</th>\n",
       "      <th>...</th>\n",
       "      <th>geolocation_source</th>\n",
       "      <th>wepp_id</th>\n",
       "      <th>year_of_capacity_data</th>\n",
       "      <th>generation_gwh_2013</th>\n",
       "      <th>generation_gwh_2014</th>\n",
       "      <th>generation_gwh_2015</th>\n",
       "      <th>generation_gwh_2016</th>\n",
       "      <th>generation_gwh_2017</th>\n",
       "      <th>generation_data_source</th>\n",
       "      <th>estimated_generation_gwh</th>\n",
       "    </tr>\n",
       "  </thead>\n",
       "  <tbody>\n",
       "    <tr>\n",
       "      <th>0</th>\n",
       "      <td>IND</td>\n",
       "      <td>India</td>\n",
       "      <td>ACME Solar Tower</td>\n",
       "      <td>WRI1020239</td>\n",
       "      <td>2.5</td>\n",
       "      <td>28.1839</td>\n",
       "      <td>73.2407</td>\n",
       "      <td>Solar</td>\n",
       "      <td>NaN</td>\n",
       "      <td>NaN</td>\n",
       "      <td>...</td>\n",
       "      <td>National Renewable Energy Laboratory</td>\n",
       "      <td>NaN</td>\n",
       "      <td>NaN</td>\n",
       "      <td>NaN</td>\n",
       "      <td>NaN</td>\n",
       "      <td>NaN</td>\n",
       "      <td>NaN</td>\n",
       "      <td>NaN</td>\n",
       "      <td>NaN</td>\n",
       "      <td>NaN</td>\n",
       "    </tr>\n",
       "    <tr>\n",
       "      <th>1</th>\n",
       "      <td>IND</td>\n",
       "      <td>India</td>\n",
       "      <td>ADITYA CEMENT WORKS</td>\n",
       "      <td>WRI1019881</td>\n",
       "      <td>98.0</td>\n",
       "      <td>24.7663</td>\n",
       "      <td>74.6090</td>\n",
       "      <td>Coal</td>\n",
       "      <td>NaN</td>\n",
       "      <td>NaN</td>\n",
       "      <td>...</td>\n",
       "      <td>WRI</td>\n",
       "      <td>NaN</td>\n",
       "      <td>NaN</td>\n",
       "      <td>NaN</td>\n",
       "      <td>NaN</td>\n",
       "      <td>NaN</td>\n",
       "      <td>NaN</td>\n",
       "      <td>NaN</td>\n",
       "      <td>NaN</td>\n",
       "      <td>NaN</td>\n",
       "    </tr>\n",
       "    <tr>\n",
       "      <th>2</th>\n",
       "      <td>IND</td>\n",
       "      <td>India</td>\n",
       "      <td>AES Saurashtra Windfarms</td>\n",
       "      <td>WRI1026669</td>\n",
       "      <td>39.2</td>\n",
       "      <td>21.9038</td>\n",
       "      <td>69.3732</td>\n",
       "      <td>Wind</td>\n",
       "      <td>NaN</td>\n",
       "      <td>NaN</td>\n",
       "      <td>...</td>\n",
       "      <td>WRI</td>\n",
       "      <td>NaN</td>\n",
       "      <td>NaN</td>\n",
       "      <td>NaN</td>\n",
       "      <td>NaN</td>\n",
       "      <td>NaN</td>\n",
       "      <td>NaN</td>\n",
       "      <td>NaN</td>\n",
       "      <td>NaN</td>\n",
       "      <td>NaN</td>\n",
       "    </tr>\n",
       "    <tr>\n",
       "      <th>3</th>\n",
       "      <td>IND</td>\n",
       "      <td>India</td>\n",
       "      <td>AGARTALA GT</td>\n",
       "      <td>IND0000001</td>\n",
       "      <td>135.0</td>\n",
       "      <td>23.8712</td>\n",
       "      <td>91.3602</td>\n",
       "      <td>Gas</td>\n",
       "      <td>NaN</td>\n",
       "      <td>NaN</td>\n",
       "      <td>...</td>\n",
       "      <td>WRI</td>\n",
       "      <td>NaN</td>\n",
       "      <td>2018.0</td>\n",
       "      <td>631.777928</td>\n",
       "      <td>617.789264</td>\n",
       "      <td>843.747000</td>\n",
       "      <td>886.004428</td>\n",
       "      <td>663.774500</td>\n",
       "      <td>Central Electricity Authority</td>\n",
       "      <td>NaN</td>\n",
       "    </tr>\n",
       "    <tr>\n",
       "      <th>4</th>\n",
       "      <td>IND</td>\n",
       "      <td>India</td>\n",
       "      <td>AKALTARA TPP</td>\n",
       "      <td>IND0000002</td>\n",
       "      <td>1800.0</td>\n",
       "      <td>21.9603</td>\n",
       "      <td>82.4091</td>\n",
       "      <td>Coal</td>\n",
       "      <td>Oil</td>\n",
       "      <td>NaN</td>\n",
       "      <td>...</td>\n",
       "      <td>WRI</td>\n",
       "      <td>NaN</td>\n",
       "      <td>2018.0</td>\n",
       "      <td>1668.290000</td>\n",
       "      <td>3035.550000</td>\n",
       "      <td>5916.370000</td>\n",
       "      <td>6243.000000</td>\n",
       "      <td>5385.579736</td>\n",
       "      <td>Central Electricity Authority</td>\n",
       "      <td>NaN</td>\n",
       "    </tr>\n",
       "    <tr>\n",
       "      <th>...</th>\n",
       "      <td>...</td>\n",
       "      <td>...</td>\n",
       "      <td>...</td>\n",
       "      <td>...</td>\n",
       "      <td>...</td>\n",
       "      <td>...</td>\n",
       "      <td>...</td>\n",
       "      <td>...</td>\n",
       "      <td>...</td>\n",
       "      <td>...</td>\n",
       "      <td>...</td>\n",
       "      <td>...</td>\n",
       "      <td>...</td>\n",
       "      <td>...</td>\n",
       "      <td>...</td>\n",
       "      <td>...</td>\n",
       "      <td>...</td>\n",
       "      <td>...</td>\n",
       "      <td>...</td>\n",
       "      <td>...</td>\n",
       "      <td>...</td>\n",
       "    </tr>\n",
       "    <tr>\n",
       "      <th>903</th>\n",
       "      <td>IND</td>\n",
       "      <td>India</td>\n",
       "      <td>YERMARUS TPP</td>\n",
       "      <td>IND0000513</td>\n",
       "      <td>1600.0</td>\n",
       "      <td>16.2949</td>\n",
       "      <td>77.3568</td>\n",
       "      <td>Coal</td>\n",
       "      <td>Oil</td>\n",
       "      <td>NaN</td>\n",
       "      <td>...</td>\n",
       "      <td>WRI</td>\n",
       "      <td>NaN</td>\n",
       "      <td>2018.0</td>\n",
       "      <td>NaN</td>\n",
       "      <td>NaN</td>\n",
       "      <td>0.994875</td>\n",
       "      <td>233.596650</td>\n",
       "      <td>865.400000</td>\n",
       "      <td>Central Electricity Authority</td>\n",
       "      <td>NaN</td>\n",
       "    </tr>\n",
       "    <tr>\n",
       "      <th>904</th>\n",
       "      <td>IND</td>\n",
       "      <td>India</td>\n",
       "      <td>Yelesandra Solar Power Plant</td>\n",
       "      <td>WRI1026222</td>\n",
       "      <td>3.0</td>\n",
       "      <td>12.8932</td>\n",
       "      <td>78.1654</td>\n",
       "      <td>Solar</td>\n",
       "      <td>NaN</td>\n",
       "      <td>NaN</td>\n",
       "      <td>...</td>\n",
       "      <td>Industry About</td>\n",
       "      <td>NaN</td>\n",
       "      <td>NaN</td>\n",
       "      <td>NaN</td>\n",
       "      <td>NaN</td>\n",
       "      <td>NaN</td>\n",
       "      <td>NaN</td>\n",
       "      <td>NaN</td>\n",
       "      <td>NaN</td>\n",
       "      <td>NaN</td>\n",
       "    </tr>\n",
       "    <tr>\n",
       "      <th>905</th>\n",
       "      <td>IND</td>\n",
       "      <td>India</td>\n",
       "      <td>Yelisirur wind power project</td>\n",
       "      <td>WRI1026776</td>\n",
       "      <td>25.5</td>\n",
       "      <td>15.2758</td>\n",
       "      <td>75.5811</td>\n",
       "      <td>Wind</td>\n",
       "      <td>NaN</td>\n",
       "      <td>NaN</td>\n",
       "      <td>...</td>\n",
       "      <td>WRI</td>\n",
       "      <td>NaN</td>\n",
       "      <td>NaN</td>\n",
       "      <td>NaN</td>\n",
       "      <td>NaN</td>\n",
       "      <td>NaN</td>\n",
       "      <td>NaN</td>\n",
       "      <td>NaN</td>\n",
       "      <td>NaN</td>\n",
       "      <td>NaN</td>\n",
       "    </tr>\n",
       "    <tr>\n",
       "      <th>906</th>\n",
       "      <td>IND</td>\n",
       "      <td>India</td>\n",
       "      <td>ZAWAR MINES</td>\n",
       "      <td>WRI1019901</td>\n",
       "      <td>80.0</td>\n",
       "      <td>24.3500</td>\n",
       "      <td>73.7477</td>\n",
       "      <td>Coal</td>\n",
       "      <td>NaN</td>\n",
       "      <td>NaN</td>\n",
       "      <td>...</td>\n",
       "      <td>WRI</td>\n",
       "      <td>NaN</td>\n",
       "      <td>NaN</td>\n",
       "      <td>NaN</td>\n",
       "      <td>NaN</td>\n",
       "      <td>NaN</td>\n",
       "      <td>NaN</td>\n",
       "      <td>NaN</td>\n",
       "      <td>NaN</td>\n",
       "      <td>NaN</td>\n",
       "    </tr>\n",
       "    <tr>\n",
       "      <th>907</th>\n",
       "      <td>IND</td>\n",
       "      <td>India</td>\n",
       "      <td>iEnergy Theni Wind Farm</td>\n",
       "      <td>WRI1026761</td>\n",
       "      <td>16.5</td>\n",
       "      <td>9.9344</td>\n",
       "      <td>77.4768</td>\n",
       "      <td>Wind</td>\n",
       "      <td>NaN</td>\n",
       "      <td>NaN</td>\n",
       "      <td>...</td>\n",
       "      <td>WRI</td>\n",
       "      <td>NaN</td>\n",
       "      <td>NaN</td>\n",
       "      <td>NaN</td>\n",
       "      <td>NaN</td>\n",
       "      <td>NaN</td>\n",
       "      <td>NaN</td>\n",
       "      <td>NaN</td>\n",
       "      <td>NaN</td>\n",
       "      <td>NaN</td>\n",
       "    </tr>\n",
       "  </tbody>\n",
       "</table>\n",
       "<p>908 rows × 25 columns</p>\n",
       "</div>"
      ],
      "text/plain": [
       "    country country_long                          name   gppd_idnr  \\\n",
       "0       IND        India              ACME Solar Tower  WRI1020239   \n",
       "1       IND        India           ADITYA CEMENT WORKS  WRI1019881   \n",
       "2       IND        India      AES Saurashtra Windfarms  WRI1026669   \n",
       "3       IND        India                   AGARTALA GT  IND0000001   \n",
       "4       IND        India                  AKALTARA TPP  IND0000002   \n",
       "..      ...          ...                           ...         ...   \n",
       "903     IND        India                  YERMARUS TPP  IND0000513   \n",
       "904     IND        India  Yelesandra Solar Power Plant  WRI1026222   \n",
       "905     IND        India  Yelisirur wind power project  WRI1026776   \n",
       "906     IND        India                   ZAWAR MINES  WRI1019901   \n",
       "907     IND        India       iEnergy Theni Wind Farm  WRI1026761   \n",
       "\n",
       "     capacity_mw  latitude  longitude primary_fuel other_fuel1 other_fuel2  \\\n",
       "0            2.5   28.1839    73.2407        Solar         NaN         NaN   \n",
       "1           98.0   24.7663    74.6090         Coal         NaN         NaN   \n",
       "2           39.2   21.9038    69.3732         Wind         NaN         NaN   \n",
       "3          135.0   23.8712    91.3602          Gas         NaN         NaN   \n",
       "4         1800.0   21.9603    82.4091         Coal         Oil         NaN   \n",
       "..           ...       ...        ...          ...         ...         ...   \n",
       "903       1600.0   16.2949    77.3568         Coal         Oil         NaN   \n",
       "904          3.0   12.8932    78.1654        Solar         NaN         NaN   \n",
       "905         25.5   15.2758    75.5811         Wind         NaN         NaN   \n",
       "906         80.0   24.3500    73.7477         Coal         NaN         NaN   \n",
       "907         16.5    9.9344    77.4768         Wind         NaN         NaN   \n",
       "\n",
       "     ...                    geolocation_source  wepp_id year_of_capacity_data  \\\n",
       "0    ...  National Renewable Energy Laboratory      NaN                   NaN   \n",
       "1    ...                                   WRI      NaN                   NaN   \n",
       "2    ...                                   WRI      NaN                   NaN   \n",
       "3    ...                                   WRI      NaN                2018.0   \n",
       "4    ...                                   WRI      NaN                2018.0   \n",
       "..   ...                                   ...      ...                   ...   \n",
       "903  ...                                   WRI      NaN                2018.0   \n",
       "904  ...                        Industry About      NaN                   NaN   \n",
       "905  ...                                   WRI      NaN                   NaN   \n",
       "906  ...                                   WRI      NaN                   NaN   \n",
       "907  ...                                   WRI      NaN                   NaN   \n",
       "\n",
       "    generation_gwh_2013 generation_gwh_2014 generation_gwh_2015  \\\n",
       "0                   NaN                 NaN                 NaN   \n",
       "1                   NaN                 NaN                 NaN   \n",
       "2                   NaN                 NaN                 NaN   \n",
       "3            631.777928          617.789264          843.747000   \n",
       "4           1668.290000         3035.550000         5916.370000   \n",
       "..                  ...                 ...                 ...   \n",
       "903                 NaN                 NaN            0.994875   \n",
       "904                 NaN                 NaN                 NaN   \n",
       "905                 NaN                 NaN                 NaN   \n",
       "906                 NaN                 NaN                 NaN   \n",
       "907                 NaN                 NaN                 NaN   \n",
       "\n",
       "     generation_gwh_2016  generation_gwh_2017         generation_data_source  \\\n",
       "0                    NaN                  NaN                            NaN   \n",
       "1                    NaN                  NaN                            NaN   \n",
       "2                    NaN                  NaN                            NaN   \n",
       "3             886.004428           663.774500  Central Electricity Authority   \n",
       "4            6243.000000          5385.579736  Central Electricity Authority   \n",
       "..                   ...                  ...                            ...   \n",
       "903           233.596650           865.400000  Central Electricity Authority   \n",
       "904                  NaN                  NaN                            NaN   \n",
       "905                  NaN                  NaN                            NaN   \n",
       "906                  NaN                  NaN                            NaN   \n",
       "907                  NaN                  NaN                            NaN   \n",
       "\n",
       "     estimated_generation_gwh  \n",
       "0                         NaN  \n",
       "1                         NaN  \n",
       "2                         NaN  \n",
       "3                         NaN  \n",
       "4                         NaN  \n",
       "..                        ...  \n",
       "903                       NaN  \n",
       "904                       NaN  \n",
       "905                       NaN  \n",
       "906                       NaN  \n",
       "907                       NaN  \n",
       "\n",
       "[908 rows x 25 columns]"
      ]
     },
     "execution_count": 4,
     "metadata": {},
     "output_type": "execute_result"
    }
   ],
   "source": [
    "df"
   ]
  },
  {
   "cell_type": "code",
   "execution_count": 5,
   "metadata": {},
   "outputs": [
    {
     "data": {
      "text/plain": [
       "(908, 25)"
      ]
     },
     "execution_count": 5,
     "metadata": {},
     "output_type": "execute_result"
    }
   ],
   "source": [
    "df.shape"
   ]
  },
  {
   "cell_type": "markdown",
   "metadata": {},
   "source": [
    "# Checking for null values"
   ]
  },
  {
   "cell_type": "code",
   "execution_count": 6,
   "metadata": {},
   "outputs": [
    {
     "data": {
      "text/plain": [
       "country                       0\n",
       "country_long                  0\n",
       "name                          0\n",
       "gppd_idnr                     0\n",
       "capacity_mw                   0\n",
       "latitude                     46\n",
       "longitude                    46\n",
       "primary_fuel                  0\n",
       "other_fuel1                 709\n",
       "other_fuel2                 907\n",
       "other_fuel3                 908\n",
       "commissioning_year          380\n",
       "owner                       566\n",
       "source                        0\n",
       "url                           0\n",
       "geolocation_source           19\n",
       "wepp_id                     908\n",
       "year_of_capacity_data       388\n",
       "generation_gwh_2013         524\n",
       "generation_gwh_2014         507\n",
       "generation_gwh_2015         483\n",
       "generation_gwh_2016         471\n",
       "generation_gwh_2017         465\n",
       "generation_data_source      458\n",
       "estimated_generation_gwh    908\n",
       "dtype: int64"
      ]
     },
     "execution_count": 6,
     "metadata": {},
     "output_type": "execute_result"
    }
   ],
   "source": [
    "df.isnull().sum()"
   ]
  },
  {
   "cell_type": "markdown",
   "metadata": {},
   "source": [
    "- many columns has nan values,lets check the precentage of missing values"
   ]
  },
  {
   "cell_type": "code",
   "execution_count": 7,
   "metadata": {},
   "outputs": [
    {
     "data": {
      "text/plain": [
       "country                       0.000000\n",
       "country_long                  0.000000\n",
       "name                          0.000000\n",
       "gppd_idnr                     0.000000\n",
       "capacity_mw                   0.000000\n",
       "latitude                      5.066079\n",
       "longitude                     5.066079\n",
       "primary_fuel                  0.000000\n",
       "other_fuel1                  78.083700\n",
       "other_fuel2                  99.889868\n",
       "other_fuel3                 100.000000\n",
       "commissioning_year           41.850220\n",
       "owner                        62.334802\n",
       "source                        0.000000\n",
       "url                           0.000000\n",
       "geolocation_source            2.092511\n",
       "wepp_id                     100.000000\n",
       "year_of_capacity_data        42.731278\n",
       "generation_gwh_2013          57.709251\n",
       "generation_gwh_2014          55.837004\n",
       "generation_gwh_2015          53.193833\n",
       "generation_gwh_2016          51.872247\n",
       "generation_gwh_2017          51.211454\n",
       "generation_data_source       50.440529\n",
       "estimated_generation_gwh    100.000000\n",
       "dtype: float64"
      ]
     },
     "execution_count": 7,
     "metadata": {},
     "output_type": "execute_result"
    }
   ],
   "source": [
    "df.isnull().mean()*100"
   ]
  },
  {
   "cell_type": "markdown",
   "metadata": {},
   "source": [
    "In most of the columns the percentage of missing values is too high & that will need to be removed since it provides no insights.\n",
    "so we are going to remove the columns which has more then 40 % missing values."
   ]
  },
  {
   "cell_type": "code",
   "execution_count": 8,
   "metadata": {},
   "outputs": [],
   "source": [
    "columns_with_nan =[]\n",
    "for i in df.columns:\n",
    "    if (df[i].isnull().mean()*100 ) > 40 :\n",
    "        columns_with_nan.append(i)\n",
    "    "
   ]
  },
  {
   "cell_type": "code",
   "execution_count": 9,
   "metadata": {},
   "outputs": [
    {
     "data": {
      "text/plain": [
       "['other_fuel1',\n",
       " 'other_fuel2',\n",
       " 'other_fuel3',\n",
       " 'commissioning_year',\n",
       " 'owner',\n",
       " 'wepp_id',\n",
       " 'year_of_capacity_data',\n",
       " 'generation_gwh_2013',\n",
       " 'generation_gwh_2014',\n",
       " 'generation_gwh_2015',\n",
       " 'generation_gwh_2016',\n",
       " 'generation_gwh_2017',\n",
       " 'generation_data_source',\n",
       " 'estimated_generation_gwh']"
      ]
     },
     "execution_count": 9,
     "metadata": {},
     "output_type": "execute_result"
    }
   ],
   "source": [
    "columns_with_nan"
   ]
  },
  {
   "cell_type": "markdown",
   "metadata": {},
   "source": [
    "These are the columns which has more then 40 % of missing values."
   ]
  },
  {
   "cell_type": "code",
   "execution_count": 10,
   "metadata": {},
   "outputs": [],
   "source": [
    "df.drop(columns=columns_with_nan,axis=1,inplace=True)"
   ]
  },
  {
   "cell_type": "markdown",
   "metadata": {},
   "source": [
    "Now columns with more then 40% missing values has been removed "
   ]
  },
  {
   "cell_type": "code",
   "execution_count": 11,
   "metadata": {},
   "outputs": [
    {
     "data": {
      "text/plain": [
       "country                0\n",
       "country_long           0\n",
       "name                   0\n",
       "gppd_idnr              0\n",
       "capacity_mw            0\n",
       "latitude              46\n",
       "longitude             46\n",
       "primary_fuel           0\n",
       "source                 0\n",
       "url                    0\n",
       "geolocation_source    19\n",
       "dtype: int64"
      ]
     },
     "execution_count": 11,
     "metadata": {},
     "output_type": "execute_result"
    }
   ],
   "source": [
    "df.isnull().sum()"
   ]
  },
  {
   "cell_type": "markdown",
   "metadata": {},
   "source": [
    "Now wee still have some missing values and have to handel it."
   ]
  },
  {
   "cell_type": "markdown",
   "metadata": {},
   "source": [
    "# Information about data"
   ]
  },
  {
   "cell_type": "code",
   "execution_count": 12,
   "metadata": {},
   "outputs": [
    {
     "name": "stdout",
     "output_type": "stream",
     "text": [
      "<class 'pandas.core.frame.DataFrame'>\n",
      "RangeIndex: 908 entries, 0 to 907\n",
      "Data columns (total 11 columns):\n",
      " #   Column              Non-Null Count  Dtype  \n",
      "---  ------              --------------  -----  \n",
      " 0   country             908 non-null    object \n",
      " 1   country_long        908 non-null    object \n",
      " 2   name                908 non-null    object \n",
      " 3   gppd_idnr           908 non-null    object \n",
      " 4   capacity_mw         908 non-null    float64\n",
      " 5   latitude            862 non-null    float64\n",
      " 6   longitude           862 non-null    float64\n",
      " 7   primary_fuel        908 non-null    object \n",
      " 8   source              908 non-null    object \n",
      " 9   url                 908 non-null    object \n",
      " 10  geolocation_source  889 non-null    object \n",
      "dtypes: float64(3), object(8)\n",
      "memory usage: 78.2+ KB\n"
     ]
    }
   ],
   "source": [
    "df.info()"
   ]
  },
  {
   "cell_type": "markdown",
   "metadata": {},
   "source": [
    "Capacity_mw,latutude & longitude are of float type rest of all columns are of object type."
   ]
  },
  {
   "cell_type": "markdown",
   "metadata": {},
   "source": [
    "# Checking mathematical aspects about data"
   ]
  },
  {
   "cell_type": "code",
   "execution_count": 13,
   "metadata": {},
   "outputs": [
    {
     "data": {
      "text/html": [
       "<div>\n",
       "<style scoped>\n",
       "    .dataframe tbody tr th:only-of-type {\n",
       "        vertical-align: middle;\n",
       "    }\n",
       "\n",
       "    .dataframe tbody tr th {\n",
       "        vertical-align: top;\n",
       "    }\n",
       "\n",
       "    .dataframe thead th {\n",
       "        text-align: right;\n",
       "    }\n",
       "</style>\n",
       "<table border=\"1\" class=\"dataframe\">\n",
       "  <thead>\n",
       "    <tr style=\"text-align: right;\">\n",
       "      <th></th>\n",
       "      <th>capacity_mw</th>\n",
       "      <th>latitude</th>\n",
       "      <th>longitude</th>\n",
       "    </tr>\n",
       "  </thead>\n",
       "  <tbody>\n",
       "    <tr>\n",
       "      <th>count</th>\n",
       "      <td>908.000000</td>\n",
       "      <td>862.000000</td>\n",
       "      <td>862.000000</td>\n",
       "    </tr>\n",
       "    <tr>\n",
       "      <th>mean</th>\n",
       "      <td>321.046378</td>\n",
       "      <td>21.196189</td>\n",
       "      <td>77.447848</td>\n",
       "    </tr>\n",
       "    <tr>\n",
       "      <th>std</th>\n",
       "      <td>580.221767</td>\n",
       "      <td>6.248627</td>\n",
       "      <td>4.907260</td>\n",
       "    </tr>\n",
       "    <tr>\n",
       "      <th>min</th>\n",
       "      <td>0.000000</td>\n",
       "      <td>8.168900</td>\n",
       "      <td>68.644700</td>\n",
       "    </tr>\n",
       "    <tr>\n",
       "      <th>25%</th>\n",
       "      <td>16.837500</td>\n",
       "      <td>16.771575</td>\n",
       "      <td>74.258975</td>\n",
       "    </tr>\n",
       "    <tr>\n",
       "      <th>50%</th>\n",
       "      <td>60.000000</td>\n",
       "      <td>21.778300</td>\n",
       "      <td>76.719250</td>\n",
       "    </tr>\n",
       "    <tr>\n",
       "      <th>75%</th>\n",
       "      <td>388.125000</td>\n",
       "      <td>25.516375</td>\n",
       "      <td>79.441475</td>\n",
       "    </tr>\n",
       "    <tr>\n",
       "      <th>max</th>\n",
       "      <td>4760.000000</td>\n",
       "      <td>34.649000</td>\n",
       "      <td>95.408000</td>\n",
       "    </tr>\n",
       "  </tbody>\n",
       "</table>\n",
       "</div>"
      ],
      "text/plain": [
       "       capacity_mw    latitude   longitude\n",
       "count   908.000000  862.000000  862.000000\n",
       "mean    321.046378   21.196189   77.447848\n",
       "std     580.221767    6.248627    4.907260\n",
       "min       0.000000    8.168900   68.644700\n",
       "25%      16.837500   16.771575   74.258975\n",
       "50%      60.000000   21.778300   76.719250\n",
       "75%     388.125000   25.516375   79.441475\n",
       "max    4760.000000   34.649000   95.408000"
      ]
     },
     "execution_count": 13,
     "metadata": {},
     "output_type": "execute_result"
    }
   ],
   "source": [
    "df.describe()"
   ]
  },
  {
   "cell_type": "markdown",
   "metadata": {},
   "source": [
    "### Observations\n",
    "- Capacity_mw columns has no null values.\n",
    "- mean is greatter then median hence data is right skewed.\n",
    "- maximum value is way far from 75th percentile hence outliers present.\n",
    "- latitude column has some missing values.\n",
    "- mean and median are almost same hence data is normally distributrd.\n",
    "- maximum and minumum values are not far from 75th & 25th precentile hence no outliers present.\n",
    "- longitude column has some missing values.\n",
    "- mean is greatter then median hence data is right skewed.\n",
    "- maximum value is way far from 75th percentile hence outliers present."
   ]
  },
  {
   "cell_type": "markdown",
   "metadata": {},
   "source": [
    "# Checking Correlation"
   ]
  },
  {
   "cell_type": "code",
   "execution_count": 14,
   "metadata": {},
   "outputs": [
    {
     "data": {
      "image/png": "[encoded data removed]",
      "text/plain": [
       "<Figure size 720x360 with 2 Axes>"
      ]
     },
     "metadata": {
      "needs_background": "light"
     },
     "output_type": "display_data"
    }
   ],
   "source": [
    "plt.figure(figsize=(10,5))\n",
    "sns.heatmap(df.corr(),annot=True,cmap=\"gist_heat_r\")\n",
    "plt.show()"
   ]
  },
  {
   "cell_type": "markdown",
   "metadata": {},
   "source": [
    "# saperating numericals & categorical columns"
   ]
  },
  {
   "cell_type": "code",
   "execution_count": 15,
   "metadata": {},
   "outputs": [],
   "source": [
    "num_var = []\n",
    "cat_var = []\n",
    "for i in df.columns:\n",
    "    if df[i].dtype == \"O\":\n",
    "        cat_var.append(i)\n",
    "    else:\n",
    "        num_var.append(i)"
   ]
  },
  {
   "cell_type": "code",
   "execution_count": 16,
   "metadata": {},
   "outputs": [
    {
     "name": "stdout",
     "output_type": "stream",
     "text": [
      "Numericals VAriables \n",
      "-------------------------------------\n",
      "capacity_mw has  0 nan values\n",
      "latitude has  46 nan values\n",
      "longitude has  46 nan values\n",
      "\n",
      "Categorical VAriables \n",
      "-------------------------------------\n",
      "country has  0 nan values\n",
      "country_long has  0 nan values\n",
      "name has  0 nan values\n",
      "gppd_idnr has  0 nan values\n",
      "primary_fuel has  0 nan values\n",
      "source has  0 nan values\n",
      "url has  0 nan values\n",
      "geolocation_source has  19 nan values\n"
     ]
    }
   ],
   "source": [
    "print(\"Numericals VAriables \\n-------------------------------------\")\n",
    "for i in num_var:\n",
    "    print(i ,'has ',df[i].isnull().sum(),\"nan values\")\n",
    "\n",
    "print(\"\\nCategorical VAriables \\n-------------------------------------\")    \n",
    "for i in cat_var:\n",
    "    print(i ,'has ',df[i].isnull().sum(),\"nan values\")"
   ]
  },
  {
   "cell_type": "code",
   "execution_count": 17,
   "metadata": {},
   "outputs": [],
   "source": [
    "df['latitude'].fillna(df[\"latitude\"].mean(), inplace=True)\n",
    "df[\"longitude\"].fillna(df['longitude'].mean(), inplace=True)    \n",
    "df[\"geolocation_source_Indicator\"] = np.where(df[\"geolocation_source\"].isnull(),1,0)\n",
    "df[\"geolocation_source\"].fillna(df[\"geolocation_source\"].mode()[0], inplace=True)       "
   ]
  },
  {
   "cell_type": "code",
   "execution_count": 18,
   "metadata": {},
   "outputs": [
    {
     "data": {
      "text/plain": [
       "country                         0\n",
       "country_long                    0\n",
       "name                            0\n",
       "gppd_idnr                       0\n",
       "capacity_mw                     0\n",
       "latitude                        0\n",
       "longitude                       0\n",
       "primary_fuel                    0\n",
       "source                          0\n",
       "url                             0\n",
       "geolocation_source              0\n",
       "geolocation_source_Indicator    0\n",
       "dtype: int64"
      ]
     },
     "execution_count": 18,
     "metadata": {},
     "output_type": "execute_result"
    }
   ],
   "source": [
    "df.isnull().sum()"
   ]
  },
  {
   "cell_type": "markdown",
   "metadata": {},
   "source": [
    "now none of the column has nan values,we can proceed further"
   ]
  },
  {
   "cell_type": "code",
   "execution_count": 19,
   "metadata": {},
   "outputs": [
    {
     "name": "stdout",
     "output_type": "stream",
     "text": [
      "country\n",
      "1\n",
      "----------\n",
      "\n",
      "country_long\n",
      "1\n",
      "----------\n",
      "\n",
      "name\n",
      "908\n",
      "----------\n",
      "\n",
      "gppd_idnr\n",
      "908\n",
      "----------\n",
      "\n",
      "primary_fuel\n",
      "8\n",
      "----------\n",
      "\n",
      "source\n",
      "191\n",
      "----------\n",
      "\n",
      "url\n",
      "304\n",
      "----------\n",
      "\n",
      "geolocation_source\n",
      "3\n",
      "----------\n",
      "\n"
     ]
    }
   ],
   "source": [
    "for i in cat_var:\n",
    "    print(i)\n",
    "    print(df[i].nunique())\n",
    "    print(\"----------\\n\")"
   ]
  },
  {
   "cell_type": "markdown",
   "metadata": {},
   "source": [
    "name,url and gppd_idnr has lots of unique values so we are dropping them from data frame\n",
    "countrycand country_long column has only 1 value so we can drop them also."
   ]
  },
  {
   "cell_type": "code",
   "execution_count": 20,
   "metadata": {},
   "outputs": [],
   "source": [
    "df.drop(columns=[\"url\",\"gppd_idnr\",\"country_long\",\"country\",\"name\"],axis=1,inplace=True)"
   ]
  },
  {
   "cell_type": "code",
   "execution_count": 21,
   "metadata": {
    "scrolled": false
   },
   "outputs": [
    {
     "data": {
      "text/html": [
       "<div>\n",
       "<style scoped>\n",
       "    .dataframe tbody tr th:only-of-type {\n",
       "        vertical-align: middle;\n",
       "    }\n",
       "\n",
       "    .dataframe tbody tr th {\n",
       "        vertical-align: top;\n",
       "    }\n",
       "\n",
       "    .dataframe thead th {\n",
       "        text-align: right;\n",
       "    }\n",
       "</style>\n",
       "<table border=\"1\" class=\"dataframe\">\n",
       "  <thead>\n",
       "    <tr style=\"text-align: right;\">\n",
       "      <th></th>\n",
       "      <th>capacity_mw</th>\n",
       "      <th>latitude</th>\n",
       "      <th>longitude</th>\n",
       "      <th>primary_fuel</th>\n",
       "      <th>source</th>\n",
       "      <th>geolocation_source</th>\n",
       "      <th>geolocation_source_Indicator</th>\n",
       "    </tr>\n",
       "  </thead>\n",
       "  <tbody>\n",
       "    <tr>\n",
       "      <th>0</th>\n",
       "      <td>2.5</td>\n",
       "      <td>28.1839</td>\n",
       "      <td>73.2407</td>\n",
       "      <td>Solar</td>\n",
       "      <td>National Renewable Energy Laboratory</td>\n",
       "      <td>National Renewable Energy Laboratory</td>\n",
       "      <td>0</td>\n",
       "    </tr>\n",
       "    <tr>\n",
       "      <th>1</th>\n",
       "      <td>98.0</td>\n",
       "      <td>24.7663</td>\n",
       "      <td>74.6090</td>\n",
       "      <td>Coal</td>\n",
       "      <td>Ultratech Cement ltd</td>\n",
       "      <td>WRI</td>\n",
       "      <td>0</td>\n",
       "    </tr>\n",
       "    <tr>\n",
       "      <th>2</th>\n",
       "      <td>39.2</td>\n",
       "      <td>21.9038</td>\n",
       "      <td>69.3732</td>\n",
       "      <td>Wind</td>\n",
       "      <td>CDM</td>\n",
       "      <td>WRI</td>\n",
       "      <td>0</td>\n",
       "    </tr>\n",
       "    <tr>\n",
       "      <th>3</th>\n",
       "      <td>135.0</td>\n",
       "      <td>23.8712</td>\n",
       "      <td>91.3602</td>\n",
       "      <td>Gas</td>\n",
       "      <td>Central Electricity Authority</td>\n",
       "      <td>WRI</td>\n",
       "      <td>0</td>\n",
       "    </tr>\n",
       "    <tr>\n",
       "      <th>4</th>\n",
       "      <td>1800.0</td>\n",
       "      <td>21.9603</td>\n",
       "      <td>82.4091</td>\n",
       "      <td>Coal</td>\n",
       "      <td>Central Electricity Authority</td>\n",
       "      <td>WRI</td>\n",
       "      <td>0</td>\n",
       "    </tr>\n",
       "  </tbody>\n",
       "</table>\n",
       "</div>"
      ],
      "text/plain": [
       "   capacity_mw  latitude  longitude primary_fuel  \\\n",
       "0          2.5   28.1839    73.2407        Solar   \n",
       "1         98.0   24.7663    74.6090         Coal   \n",
       "2         39.2   21.9038    69.3732         Wind   \n",
       "3        135.0   23.8712    91.3602          Gas   \n",
       "4       1800.0   21.9603    82.4091         Coal   \n",
       "\n",
       "                                 source                    geolocation_source  \\\n",
       "0  National Renewable Energy Laboratory  National Renewable Energy Laboratory   \n",
       "1                  Ultratech Cement ltd                                   WRI   \n",
       "2                                   CDM                                   WRI   \n",
       "3         Central Electricity Authority                                   WRI   \n",
       "4         Central Electricity Authority                                   WRI   \n",
       "\n",
       "   geolocation_source_Indicator  \n",
       "0                             0  \n",
       "1                             0  \n",
       "2                             0  \n",
       "3                             0  \n",
       "4                             0  "
      ]
     },
     "execution_count": 21,
     "metadata": {},
     "output_type": "execute_result"
    }
   ],
   "source": [
    "df.head()"
   ]
  },
  {
   "cell_type": "code",
   "execution_count": 22,
   "metadata": {},
   "outputs": [
    {
     "data": {
      "text/plain": [
       "Coal       259\n",
       "Hydro      250\n",
       "Solar      127\n",
       "Wind       123\n",
       "Gas         69\n",
       "Biomass     50\n",
       "Oil         21\n",
       "Nuclear      9\n",
       "Name: primary_fuel, dtype: int64"
      ]
     },
     "execution_count": 22,
     "metadata": {},
     "output_type": "execute_result"
    }
   ],
   "source": [
    "df[\"primary_fuel\"].value_counts()"
   ]
  },
  {
   "cell_type": "code",
   "execution_count": 23,
   "metadata": {},
   "outputs": [
    {
     "data": {
      "image/png": "[encoded data removed]",
      "text/plain": [
       "<Figure size 720x432 with 1 Axes>"
      ]
     },
     "metadata": {
      "needs_background": "light"
     },
     "output_type": "display_data"
    }
   ],
   "source": [
    "plt.figure(figsize=(10,6))\n",
    "sns.countplot(df[\"primary_fuel\"])\n",
    "plt.show()"
   ]
  },
  {
   "cell_type": "markdown",
   "metadata": {},
   "source": [
    "Coal & hydro is the highest number of value after them solar and wind has the higher values.\n",
    "As primary_fuel is our output column it looks like classes are imbalance so we have to make it balance."
   ]
  },
  {
   "cell_type": "code",
   "execution_count": 24,
   "metadata": {},
   "outputs": [
    {
     "data": {
      "text/plain": [
       "WRI                                     86.453744\n",
       "Industry About                          13.105727\n",
       "National Renewable Energy Laboratory     0.440529\n",
       "Name: geolocation_source, dtype: float64"
      ]
     },
     "execution_count": 24,
     "metadata": {},
     "output_type": "execute_result"
    }
   ],
   "source": [
    "df[\"geolocation_source\"].value_counts()/908*100"
   ]
  },
  {
   "cell_type": "code",
   "execution_count": 25,
   "metadata": {},
   "outputs": [
    {
     "data": {
      "image/png": "[encoded data removed]",
      "text/plain": [
       "<Figure size 504x360 with 1 Axes>"
      ]
     },
     "metadata": {
      "needs_background": "light"
     },
     "output_type": "display_data"
    }
   ],
   "source": [
    "plt.figure(figsize=(7,5))\n",
    "sns.countplot(df[\"geolocation_source\"])\n",
    "plt.show()"
   ]
  },
  {
   "cell_type": "markdown",
   "metadata": {},
   "source": [
    "In the above count plot for \"geolocation_source\" column we see that the highest data value about 86% is covered by WRI option and the least value .44 % which seems quite negligible has been accumulated by National Renewable Energy Laboratory."
   ]
  },
  {
   "cell_type": "code",
   "execution_count": 26,
   "metadata": {},
   "outputs": [
    {
     "data": {
      "image/png": "[encoded data removed]",
      "text/plain": [
       "<Figure size 1152x648 with 1 Axes>"
      ]
     },
     "metadata": {
      "needs_background": "light"
     },
     "output_type": "display_data"
    }
   ],
   "source": [
    "plt.figure(figsize=(16,9))\n",
    "sns.barplot(x=df[\"primary_fuel\"],y=df[\"capacity_mw\"],hue=df[\"geolocation_source\"])\n",
    "plt.show()"
   ]
  },
  {
   "cell_type": "code",
   "execution_count": 27,
   "metadata": {},
   "outputs": [
    {
     "data": {
      "text/plain": [
       "<AxesSubplot:xlabel='geolocation_source', ylabel='primary_fuel'>"
      ]
     },
     "execution_count": 27,
     "metadata": {},
     "output_type": "execute_result"
    },
    {
     "data": {
      "image/png": "[encoded data removed]",
      "text/plain": [
       "<Figure size 432x288 with 1 Axes>"
      ]
     },
     "metadata": {
      "needs_background": "light"
     },
     "output_type": "display_data"
    }
   ],
   "source": [
    "sns.stripplot(df[\"geolocation_source\"],df[\"primary_fuel\"])"
   ]
  },
  {
   "cell_type": "code",
   "execution_count": 28,
   "metadata": {},
   "outputs": [
    {
     "data": {
      "image/png": "[encoded data removed]",
      "text/plain": [
       "<Figure size 360x360 with 1 Axes>"
      ]
     },
     "metadata": {
      "needs_background": "light"
     },
     "output_type": "display_data"
    }
   ],
   "source": [
    "plt.style.use('seaborn-pastel')\n",
    "sns.catplot(x = \"primary_fuel\", y = \"capacity_mw\", data = df)\n",
    "plt.show()"
   ]
  },
  {
   "cell_type": "markdown",
   "metadata": {},
   "source": [
    "Coal is the highest value to generate electrucity"
   ]
  },
  {
   "cell_type": "code",
   "execution_count": 29,
   "metadata": {},
   "outputs": [
    {
     "data": {
      "image/png": "[encoded data removed]",
      "text/plain": [
       "<Figure size 360x360 with 1 Axes>"
      ]
     },
     "metadata": {
      "needs_background": "light"
     },
     "output_type": "display_data"
    }
   ],
   "source": [
    "sns.catplot(x = \"primary_fuel\", y = \"latitude\", data = df)\n",
    "plt.show()"
   ]
  },
  {
   "cell_type": "markdown",
   "metadata": {},
   "source": [
    "# PairPlot"
   ]
  },
  {
   "cell_type": "code",
   "execution_count": 30,
   "metadata": {},
   "outputs": [
    {
     "data": {
      "text/plain": [
       "<seaborn.axisgrid.PairGrid at 0x1ee66c136a0>"
      ]
     },
     "execution_count": 30,
     "metadata": {},
     "output_type": "execute_result"
    },
    {
     "data": {
      "image/png": "[encoded data removed]",
      "text/plain": [
       "<Figure size 798x720 with 20 Axes>"
      ]
     },
     "metadata": {
      "needs_background": "light"
     },
     "output_type": "display_data"
    }
   ],
   "source": [
    "sns.pairplot(df,hue=\"primary_fuel\")"
   ]
  },
  {
   "cell_type": "markdown",
   "metadata": {},
   "source": [
    "From pair plot we can get a idea about how our data points are plotted on 2d plot hence we can understand which algorithms will perform well on these situation"
   ]
  },
  {
   "cell_type": "markdown",
   "metadata": {},
   "source": [
    "# Checking for outliers"
   ]
  },
  {
   "cell_type": "code",
   "execution_count": 31,
   "metadata": {},
   "outputs": [
    {
     "data": {
      "image/png": "[encoded data removed]",
      "text/plain": [
       "<Figure size 432x288 with 1 Axes>"
      ]
     },
     "metadata": {
      "needs_background": "light"
     },
     "output_type": "display_data"
    },
    {
     "data": {
      "image/png": "[encoded data removed]",
      "text/plain": [
       "<Figure size 432x288 with 1 Axes>"
      ]
     },
     "metadata": {
      "needs_background": "light"
     },
     "output_type": "display_data"
    },
    {
     "data": {
      "image/png": "[encoded data removed]",
      "text/plain": [
       "<Figure size 432x288 with 1 Axes>"
      ]
     },
     "metadata": {
      "needs_background": "light"
     },
     "output_type": "display_data"
    }
   ],
   "source": [
    "for i in num_var:\n",
    "    sns.boxplot(df[i])\n",
    "    plt.show()"
   ]
  },
  {
   "cell_type": "markdown",
   "metadata": {},
   "source": [
    "# Removing outliers using IQR method"
   ]
  },
  {
   "cell_type": "code",
   "execution_count": 32,
   "metadata": {},
   "outputs": [],
   "source": [
    "for i in num_var:\n",
    "    IQR = df[i].quantile(.75) - df[i].quantile(.25)\n",
    "    upper = df[i].quantile(.75) + 1.5 * IQR\n",
    "    lower = df[i].quantile(.25) - 1.5 * IQR\n",
    "    df[i] = np.where(df[i]>upper,upper,np.where(df[i]<lower,lower,df[i]))\n",
    "    "
   ]
  },
  {
   "cell_type": "code",
   "execution_count": 33,
   "metadata": {},
   "outputs": [
    {
     "data": {
      "image/png": "[encoded data removed]",
      "text/plain": [
       "<Figure size 432x288 with 1 Axes>"
      ]
     },
     "metadata": {
      "needs_background": "light"
     },
     "output_type": "display_data"
    },
    {
     "data": {
      "image/png": "[encoded data removed]",
      "text/plain": [
       "<Figure size 432x288 with 1 Axes>"
      ]
     },
     "metadata": {
      "needs_background": "light"
     },
     "output_type": "display_data"
    },
    {
     "data": {
      "image/png": "[encoded data removed]",
      "text/plain": [
       "<Figure size 432x288 with 1 Axes>"
      ]
     },
     "metadata": {
      "needs_background": "light"
     },
     "output_type": "display_data"
    }
   ],
   "source": [
    "for i in num_var:\n",
    "    sns.boxplot(df[i])\n",
    "    plt.show()"
   ]
  },
  {
   "cell_type": "markdown",
   "metadata": {},
   "source": [
    "outliers has been removed"
   ]
  },
  {
   "cell_type": "markdown",
   "metadata": {},
   "source": [
    "# checking for skewness"
   ]
  },
  {
   "cell_type": "code",
   "execution_count": 34,
   "metadata": {},
   "outputs": [
    {
     "data": {
      "image/png": "[encoded data removed]",
      "text/plain": [
       "<Figure size 432x288 with 1 Axes>"
      ]
     },
     "metadata": {
      "needs_background": "light"
     },
     "output_type": "display_data"
    },
    {
     "data": {
      "image/png": "[encoded data removed]",
      "text/plain": [
       "<Figure size 432x288 with 1 Axes>"
      ]
     },
     "metadata": {
      "needs_background": "light"
     },
     "output_type": "display_data"
    },
    {
     "data": {
      "image/png": "[encoded data removed]",
      "text/plain": [
       "<Figure size 432x288 with 1 Axes>"
      ]
     },
     "metadata": {
      "needs_background": "light"
     },
     "output_type": "display_data"
    }
   ],
   "source": [
    "for i in num_var:\n",
    "    sns.distplot(df[i])\n",
    "    plt.show()"
   ]
  },
  {
   "cell_type": "code",
   "execution_count": 35,
   "metadata": {},
   "outputs": [
    {
     "data": {
      "text/plain": [
       "capacity_mw    1.306045\n",
       "latitude      -0.147391\n",
       "longitude      0.562293\n",
       "dtype: float64"
      ]
     },
     "execution_count": 35,
     "metadata": {},
     "output_type": "execute_result"
    }
   ],
   "source": [
    "df[num_var].skew()"
   ]
  },
  {
   "cell_type": "markdown",
   "metadata": {},
   "source": [
    "capacity_mw  & longitude columns has skewness"
   ]
  },
  {
   "cell_type": "markdown",
   "metadata": {},
   "source": [
    "# Removing skewness"
   ]
  },
  {
   "cell_type": "code",
   "execution_count": 36,
   "metadata": {},
   "outputs": [],
   "source": [
    "df[\"capacity_mw\"],params = stats.boxcox(df[\"capacity_mw\"]+0.00001)\n",
    "df[\"longitude\"],params = stats.boxcox(df[\"longitude\"]+0.00001)"
   ]
  },
  {
   "cell_type": "code",
   "execution_count": 37,
   "metadata": {},
   "outputs": [
    {
     "data": {
      "text/plain": [
       "capacity_mw   -0.015782\n",
       "latitude      -0.147391\n",
       "longitude      0.000000\n",
       "dtype: float64"
      ]
     },
     "execution_count": 37,
     "metadata": {},
     "output_type": "execute_result"
    }
   ],
   "source": [
    "df[num_var].skew()"
   ]
  },
  {
   "cell_type": "markdown",
   "metadata": {},
   "source": [
    "now we can see that skewness has been removed from the data"
   ]
  },
  {
   "cell_type": "markdown",
   "metadata": {},
   "source": [
    "# Encoding for source column"
   ]
  },
  {
   "cell_type": "code",
   "execution_count": 38,
   "metadata": {},
   "outputs": [],
   "source": [
    "list1=df[\"source\"].value_counts().sort_values(ascending=False).head(5).index\n",
    "list1 = list(list1)"
   ]
  },
  {
   "cell_type": "code",
   "execution_count": 39,
   "metadata": {},
   "outputs": [
    {
     "data": {
      "text/plain": [
       "['Central Electricity Authority',\n",
       " 'CDM',\n",
       " 'Lancosola',\n",
       " 'National Renewable Energy Laboratory',\n",
       " 'National Thermal Power Corporation (NTPC)']"
      ]
     },
     "execution_count": 39,
     "metadata": {},
     "output_type": "execute_result"
    }
   ],
   "source": [
    "list1"
   ]
  },
  {
   "cell_type": "markdown",
   "metadata": {},
   "source": [
    "these are the categories that occurs frequently in the source column hance we are going to one hot encode them"
   ]
  },
  {
   "cell_type": "code",
   "execution_count": 40,
   "metadata": {},
   "outputs": [],
   "source": [
    "for i in list1:\n",
    "    df[i] = np.where(df[\"source\"] == i ,1 , 0)"
   ]
  },
  {
   "cell_type": "code",
   "execution_count": 41,
   "metadata": {},
   "outputs": [
    {
     "data": {
      "text/html": [
       "<div>\n",
       "<style scoped>\n",
       "    .dataframe tbody tr th:only-of-type {\n",
       "        vertical-align: middle;\n",
       "    }\n",
       "\n",
       "    .dataframe tbody tr th {\n",
       "        vertical-align: top;\n",
       "    }\n",
       "\n",
       "    .dataframe thead th {\n",
       "        text-align: right;\n",
       "    }\n",
       "</style>\n",
       "<table border=\"1\" class=\"dataframe\">\n",
       "  <thead>\n",
       "    <tr style=\"text-align: right;\">\n",
       "      <th></th>\n",
       "      <th>capacity_mw</th>\n",
       "      <th>latitude</th>\n",
       "      <th>longitude</th>\n",
       "      <th>primary_fuel</th>\n",
       "      <th>source</th>\n",
       "      <th>geolocation_source</th>\n",
       "      <th>geolocation_source_Indicator</th>\n",
       "      <th>Central Electricity Authority</th>\n",
       "      <th>CDM</th>\n",
       "      <th>Lancosola</th>\n",
       "      <th>National Renewable Energy Laboratory</th>\n",
       "      <th>National Thermal Power Corporation (NTPC)</th>\n",
       "    </tr>\n",
       "  </thead>\n",
       "  <tbody>\n",
       "    <tr>\n",
       "      <th>0</th>\n",
       "      <td>0.951925</td>\n",
       "      <td>28.1839</td>\n",
       "      <td>0.327991</td>\n",
       "      <td>Solar</td>\n",
       "      <td>National Renewable Energy Laboratory</td>\n",
       "      <td>National Renewable Energy Laboratory</td>\n",
       "      <td>0</td>\n",
       "      <td>0</td>\n",
       "      <td>0</td>\n",
       "      <td>0</td>\n",
       "      <td>1</td>\n",
       "      <td>0</td>\n",
       "    </tr>\n",
       "    <tr>\n",
       "      <th>1</th>\n",
       "      <td>5.575935</td>\n",
       "      <td>24.7663</td>\n",
       "      <td>0.327991</td>\n",
       "      <td>Coal</td>\n",
       "      <td>Ultratech Cement ltd</td>\n",
       "      <td>WRI</td>\n",
       "      <td>0</td>\n",
       "      <td>0</td>\n",
       "      <td>0</td>\n",
       "      <td>0</td>\n",
       "      <td>0</td>\n",
       "      <td>0</td>\n",
       "    </tr>\n",
       "    <tr>\n",
       "      <th>2</th>\n",
       "      <td>4.286397</td>\n",
       "      <td>21.9038</td>\n",
       "      <td>0.327990</td>\n",
       "      <td>Wind</td>\n",
       "      <td>CDM</td>\n",
       "      <td>WRI</td>\n",
       "      <td>0</td>\n",
       "      <td>0</td>\n",
       "      <td>1</td>\n",
       "      <td>0</td>\n",
       "      <td>0</td>\n",
       "      <td>0</td>\n",
       "    </tr>\n",
       "    <tr>\n",
       "      <th>3</th>\n",
       "      <td>6.050281</td>\n",
       "      <td>23.8712</td>\n",
       "      <td>0.327991</td>\n",
       "      <td>Gas</td>\n",
       "      <td>Central Electricity Authority</td>\n",
       "      <td>WRI</td>\n",
       "      <td>0</td>\n",
       "      <td>1</td>\n",
       "      <td>0</td>\n",
       "      <td>0</td>\n",
       "      <td>0</td>\n",
       "      <td>0</td>\n",
       "    </tr>\n",
       "    <tr>\n",
       "      <th>4</th>\n",
       "      <td>9.218679</td>\n",
       "      <td>21.9603</td>\n",
       "      <td>0.327991</td>\n",
       "      <td>Coal</td>\n",
       "      <td>Central Electricity Authority</td>\n",
       "      <td>WRI</td>\n",
       "      <td>0</td>\n",
       "      <td>1</td>\n",
       "      <td>0</td>\n",
       "      <td>0</td>\n",
       "      <td>0</td>\n",
       "      <td>0</td>\n",
       "    </tr>\n",
       "  </tbody>\n",
       "</table>\n",
       "</div>"
      ],
      "text/plain": [
       "   capacity_mw  latitude  longitude primary_fuel  \\\n",
       "0     0.951925   28.1839   0.327991        Solar   \n",
       "1     5.575935   24.7663   0.327991         Coal   \n",
       "2     4.286397   21.9038   0.327990         Wind   \n",
       "3     6.050281   23.8712   0.327991          Gas   \n",
       "4     9.218679   21.9603   0.327991         Coal   \n",
       "\n",
       "                                 source                    geolocation_source  \\\n",
       "0  National Renewable Energy Laboratory  National Renewable Energy Laboratory   \n",
       "1                  Ultratech Cement ltd                                   WRI   \n",
       "2                                   CDM                                   WRI   \n",
       "3         Central Electricity Authority                                   WRI   \n",
       "4         Central Electricity Authority                                   WRI   \n",
       "\n",
       "   geolocation_source_Indicator  Central Electricity Authority  CDM  \\\n",
       "0                             0                              0    0   \n",
       "1                             0                              0    0   \n",
       "2                             0                              0    1   \n",
       "3                             0                              1    0   \n",
       "4                             0                              1    0   \n",
       "\n",
       "   Lancosola  National Renewable Energy Laboratory  \\\n",
       "0          0                                     1   \n",
       "1          0                                     0   \n",
       "2          0                                     0   \n",
       "3          0                                     0   \n",
       "4          0                                     0   \n",
       "\n",
       "   National Thermal Power Corporation (NTPC)  \n",
       "0                                          0  \n",
       "1                                          0  \n",
       "2                                          0  \n",
       "3                                          0  \n",
       "4                                          0  "
      ]
     },
     "execution_count": 41,
     "metadata": {},
     "output_type": "execute_result"
    }
   ],
   "source": [
    "df.head()"
   ]
  },
  {
   "cell_type": "markdown",
   "metadata": {},
   "source": [
    "now we can drop the source column from the dataframe"
   ]
  },
  {
   "cell_type": "markdown",
   "metadata": {},
   "source": [
    "# Label encoding the output column"
   ]
  },
  {
   "cell_type": "code",
   "execution_count": 42,
   "metadata": {},
   "outputs": [
    {
     "data": {
      "text/html": [
       "<div>\n",
       "<style scoped>\n",
       "    .dataframe tbody tr th:only-of-type {\n",
       "        vertical-align: middle;\n",
       "    }\n",
       "\n",
       "    .dataframe tbody tr th {\n",
       "        vertical-align: top;\n",
       "    }\n",
       "\n",
       "    .dataframe thead th {\n",
       "        text-align: right;\n",
       "    }\n",
       "</style>\n",
       "<table border=\"1\" class=\"dataframe\">\n",
       "  <thead>\n",
       "    <tr style=\"text-align: right;\">\n",
       "      <th></th>\n",
       "      <th>capacity_mw</th>\n",
       "      <th>latitude</th>\n",
       "      <th>longitude</th>\n",
       "      <th>primary_fuel</th>\n",
       "      <th>source</th>\n",
       "      <th>geolocation_source</th>\n",
       "      <th>geolocation_source_Indicator</th>\n",
       "      <th>Central Electricity Authority</th>\n",
       "      <th>CDM</th>\n",
       "      <th>Lancosola</th>\n",
       "      <th>National Renewable Energy Laboratory</th>\n",
       "      <th>National Thermal Power Corporation (NTPC)</th>\n",
       "    </tr>\n",
       "  </thead>\n",
       "  <tbody>\n",
       "    <tr>\n",
       "      <th>0</th>\n",
       "      <td>0.951925</td>\n",
       "      <td>28.1839</td>\n",
       "      <td>0.327991</td>\n",
       "      <td>6</td>\n",
       "      <td>National Renewable Energy Laboratory</td>\n",
       "      <td>National Renewable Energy Laboratory</td>\n",
       "      <td>0</td>\n",
       "      <td>0</td>\n",
       "      <td>0</td>\n",
       "      <td>0</td>\n",
       "      <td>1</td>\n",
       "      <td>0</td>\n",
       "    </tr>\n",
       "    <tr>\n",
       "      <th>1</th>\n",
       "      <td>5.575935</td>\n",
       "      <td>24.7663</td>\n",
       "      <td>0.327991</td>\n",
       "      <td>1</td>\n",
       "      <td>Ultratech Cement ltd</td>\n",
       "      <td>WRI</td>\n",
       "      <td>0</td>\n",
       "      <td>0</td>\n",
       "      <td>0</td>\n",
       "      <td>0</td>\n",
       "      <td>0</td>\n",
       "      <td>0</td>\n",
       "    </tr>\n",
       "    <tr>\n",
       "      <th>2</th>\n",
       "      <td>4.286397</td>\n",
       "      <td>21.9038</td>\n",
       "      <td>0.327990</td>\n",
       "      <td>7</td>\n",
       "      <td>CDM</td>\n",
       "      <td>WRI</td>\n",
       "      <td>0</td>\n",
       "      <td>0</td>\n",
       "      <td>1</td>\n",
       "      <td>0</td>\n",
       "      <td>0</td>\n",
       "      <td>0</td>\n",
       "    </tr>\n",
       "    <tr>\n",
       "      <th>3</th>\n",
       "      <td>6.050281</td>\n",
       "      <td>23.8712</td>\n",
       "      <td>0.327991</td>\n",
       "      <td>2</td>\n",
       "      <td>Central Electricity Authority</td>\n",
       "      <td>WRI</td>\n",
       "      <td>0</td>\n",
       "      <td>1</td>\n",
       "      <td>0</td>\n",
       "      <td>0</td>\n",
       "      <td>0</td>\n",
       "      <td>0</td>\n",
       "    </tr>\n",
       "    <tr>\n",
       "      <th>4</th>\n",
       "      <td>9.218679</td>\n",
       "      <td>21.9603</td>\n",
       "      <td>0.327991</td>\n",
       "      <td>1</td>\n",
       "      <td>Central Electricity Authority</td>\n",
       "      <td>WRI</td>\n",
       "      <td>0</td>\n",
       "      <td>1</td>\n",
       "      <td>0</td>\n",
       "      <td>0</td>\n",
       "      <td>0</td>\n",
       "      <td>0</td>\n",
       "    </tr>\n",
       "  </tbody>\n",
       "</table>\n",
       "</div>"
      ],
      "text/plain": [
       "   capacity_mw  latitude  longitude  primary_fuel  \\\n",
       "0     0.951925   28.1839   0.327991             6   \n",
       "1     5.575935   24.7663   0.327991             1   \n",
       "2     4.286397   21.9038   0.327990             7   \n",
       "3     6.050281   23.8712   0.327991             2   \n",
       "4     9.218679   21.9603   0.327991             1   \n",
       "\n",
       "                                 source                    geolocation_source  \\\n",
       "0  National Renewable Energy Laboratory  National Renewable Energy Laboratory   \n",
       "1                  Ultratech Cement ltd                                   WRI   \n",
       "2                                   CDM                                   WRI   \n",
       "3         Central Electricity Authority                                   WRI   \n",
       "4         Central Electricity Authority                                   WRI   \n",
       "\n",
       "   geolocation_source_Indicator  Central Electricity Authority  CDM  \\\n",
       "0                             0                              0    0   \n",
       "1                             0                              0    0   \n",
       "2                             0                              0    1   \n",
       "3                             0                              1    0   \n",
       "4                             0                              1    0   \n",
       "\n",
       "   Lancosola  National Renewable Energy Laboratory  \\\n",
       "0          0                                     1   \n",
       "1          0                                     0   \n",
       "2          0                                     0   \n",
       "3          0                                     0   \n",
       "4          0                                     0   \n",
       "\n",
       "   National Thermal Power Corporation (NTPC)  \n",
       "0                                          0  \n",
       "1                                          0  \n",
       "2                                          0  \n",
       "3                                          0  \n",
       "4                                          0  "
      ]
     },
     "execution_count": 42,
     "metadata": {},
     "output_type": "execute_result"
    }
   ],
   "source": [
    "# Label Encoder\n",
    "le = LabelEncoder()\n",
    "df[\"primary_fuel\"] = le.fit_transform(df[\"primary_fuel\"])\n",
    "df.head()"
   ]
  },
  {
   "cell_type": "markdown",
   "metadata": {},
   "source": [
    "# FOR CLASSIFICATION PROBLEM"
   ]
  },
  {
   "cell_type": "markdown",
   "metadata": {},
   "source": [
    "## saperating input and output labels"
   ]
  },
  {
   "cell_type": "code",
   "execution_count": 43,
   "metadata": {},
   "outputs": [],
   "source": [
    "X = df.drop(columns=[\"primary_fuel\",\"source\"])"
   ]
  },
  {
   "cell_type": "code",
   "execution_count": 44,
   "metadata": {},
   "outputs": [],
   "source": [
    "y = df[\"primary_fuel\"]"
   ]
  },
  {
   "cell_type": "code",
   "execution_count": 45,
   "metadata": {},
   "outputs": [
    {
     "data": {
      "text/html": [
       "<div>\n",
       "<style scoped>\n",
       "    .dataframe tbody tr th:only-of-type {\n",
       "        vertical-align: middle;\n",
       "    }\n",
       "\n",
       "    .dataframe tbody tr th {\n",
       "        vertical-align: top;\n",
       "    }\n",
       "\n",
       "    .dataframe thead th {\n",
       "        text-align: right;\n",
       "    }\n",
       "</style>\n",
       "<table border=\"1\" class=\"dataframe\">\n",
       "  <thead>\n",
       "    <tr style=\"text-align: right;\">\n",
       "      <th></th>\n",
       "      <th>capacity_mw</th>\n",
       "      <th>latitude</th>\n",
       "      <th>longitude</th>\n",
       "      <th>geolocation_source</th>\n",
       "      <th>geolocation_source_Indicator</th>\n",
       "      <th>Central Electricity Authority</th>\n",
       "      <th>CDM</th>\n",
       "      <th>Lancosola</th>\n",
       "      <th>National Renewable Energy Laboratory</th>\n",
       "      <th>National Thermal Power Corporation (NTPC)</th>\n",
       "    </tr>\n",
       "  </thead>\n",
       "  <tbody>\n",
       "    <tr>\n",
       "      <th>0</th>\n",
       "      <td>0.951925</td>\n",
       "      <td>28.1839</td>\n",
       "      <td>0.327991</td>\n",
       "      <td>National Renewable Energy Laboratory</td>\n",
       "      <td>0</td>\n",
       "      <td>0</td>\n",
       "      <td>0</td>\n",
       "      <td>0</td>\n",
       "      <td>1</td>\n",
       "      <td>0</td>\n",
       "    </tr>\n",
       "    <tr>\n",
       "      <th>1</th>\n",
       "      <td>5.575935</td>\n",
       "      <td>24.7663</td>\n",
       "      <td>0.327991</td>\n",
       "      <td>WRI</td>\n",
       "      <td>0</td>\n",
       "      <td>0</td>\n",
       "      <td>0</td>\n",
       "      <td>0</td>\n",
       "      <td>0</td>\n",
       "      <td>0</td>\n",
       "    </tr>\n",
       "    <tr>\n",
       "      <th>2</th>\n",
       "      <td>4.286397</td>\n",
       "      <td>21.9038</td>\n",
       "      <td>0.327990</td>\n",
       "      <td>WRI</td>\n",
       "      <td>0</td>\n",
       "      <td>0</td>\n",
       "      <td>1</td>\n",
       "      <td>0</td>\n",
       "      <td>0</td>\n",
       "      <td>0</td>\n",
       "    </tr>\n",
       "    <tr>\n",
       "      <th>3</th>\n",
       "      <td>6.050281</td>\n",
       "      <td>23.8712</td>\n",
       "      <td>0.327991</td>\n",
       "      <td>WRI</td>\n",
       "      <td>0</td>\n",
       "      <td>1</td>\n",
       "      <td>0</td>\n",
       "      <td>0</td>\n",
       "      <td>0</td>\n",
       "      <td>0</td>\n",
       "    </tr>\n",
       "    <tr>\n",
       "      <th>4</th>\n",
       "      <td>9.218679</td>\n",
       "      <td>21.9603</td>\n",
       "      <td>0.327991</td>\n",
       "      <td>WRI</td>\n",
       "      <td>0</td>\n",
       "      <td>1</td>\n",
       "      <td>0</td>\n",
       "      <td>0</td>\n",
       "      <td>0</td>\n",
       "      <td>0</td>\n",
       "    </tr>\n",
       "    <tr>\n",
       "      <th>...</th>\n",
       "      <td>...</td>\n",
       "      <td>...</td>\n",
       "      <td>...</td>\n",
       "      <td>...</td>\n",
       "      <td>...</td>\n",
       "      <td>...</td>\n",
       "      <td>...</td>\n",
       "      <td>...</td>\n",
       "      <td>...</td>\n",
       "      <td>...</td>\n",
       "    </tr>\n",
       "    <tr>\n",
       "      <th>903</th>\n",
       "      <td>9.218679</td>\n",
       "      <td>16.2949</td>\n",
       "      <td>0.327991</td>\n",
       "      <td>WRI</td>\n",
       "      <td>0</td>\n",
       "      <td>1</td>\n",
       "      <td>0</td>\n",
       "      <td>0</td>\n",
       "      <td>0</td>\n",
       "      <td>0</td>\n",
       "    </tr>\n",
       "    <tr>\n",
       "      <th>904</th>\n",
       "      <td>1.150097</td>\n",
       "      <td>12.8932</td>\n",
       "      <td>0.327991</td>\n",
       "      <td>Industry About</td>\n",
       "      <td>0</td>\n",
       "      <td>0</td>\n",
       "      <td>0</td>\n",
       "      <td>0</td>\n",
       "      <td>0</td>\n",
       "      <td>0</td>\n",
       "    </tr>\n",
       "    <tr>\n",
       "      <th>905</th>\n",
       "      <td>3.714133</td>\n",
       "      <td>15.2758</td>\n",
       "      <td>0.327991</td>\n",
       "      <td>WRI</td>\n",
       "      <td>0</td>\n",
       "      <td>0</td>\n",
       "      <td>1</td>\n",
       "      <td>0</td>\n",
       "      <td>0</td>\n",
       "      <td>0</td>\n",
       "    </tr>\n",
       "    <tr>\n",
       "      <th>906</th>\n",
       "      <td>5.281840</td>\n",
       "      <td>24.3500</td>\n",
       "      <td>0.327991</td>\n",
       "      <td>WRI</td>\n",
       "      <td>0</td>\n",
       "      <td>0</td>\n",
       "      <td>0</td>\n",
       "      <td>0</td>\n",
       "      <td>0</td>\n",
       "      <td>0</td>\n",
       "    </tr>\n",
       "    <tr>\n",
       "      <th>907</th>\n",
       "      <td>3.155161</td>\n",
       "      <td>9.9344</td>\n",
       "      <td>0.327991</td>\n",
       "      <td>WRI</td>\n",
       "      <td>0</td>\n",
       "      <td>0</td>\n",
       "      <td>1</td>\n",
       "      <td>0</td>\n",
       "      <td>0</td>\n",
       "      <td>0</td>\n",
       "    </tr>\n",
       "  </tbody>\n",
       "</table>\n",
       "<p>908 rows × 10 columns</p>\n",
       "</div>"
      ],
      "text/plain": [
       "     capacity_mw  latitude  longitude                    geolocation_source  \\\n",
       "0       0.951925   28.1839   0.327991  National Renewable Energy Laboratory   \n",
       "1       5.575935   24.7663   0.327991                                   WRI   \n",
       "2       4.286397   21.9038   0.327990                                   WRI   \n",
       "3       6.050281   23.8712   0.327991                                   WRI   \n",
       "4       9.218679   21.9603   0.327991                                   WRI   \n",
       "..           ...       ...        ...                                   ...   \n",
       "903     9.218679   16.2949   0.327991                                   WRI   \n",
       "904     1.150097   12.8932   0.327991                        Industry About   \n",
       "905     3.714133   15.2758   0.327991                                   WRI   \n",
       "906     5.281840   24.3500   0.327991                                   WRI   \n",
       "907     3.155161    9.9344   0.327991                                   WRI   \n",
       "\n",
       "     geolocation_source_Indicator  Central Electricity Authority  CDM  \\\n",
       "0                               0                              0    0   \n",
       "1                               0                              0    0   \n",
       "2                               0                              0    1   \n",
       "3                               0                              1    0   \n",
       "4                               0                              1    0   \n",
       "..                            ...                            ...  ...   \n",
       "903                             0                              1    0   \n",
       "904                             0                              0    0   \n",
       "905                             0                              0    1   \n",
       "906                             0                              0    0   \n",
       "907                             0                              0    1   \n",
       "\n",
       "     Lancosola  National Renewable Energy Laboratory  \\\n",
       "0            0                                     1   \n",
       "1            0                                     0   \n",
       "2            0                                     0   \n",
       "3            0                                     0   \n",
       "4            0                                     0   \n",
       "..         ...                                   ...   \n",
       "903          0                                     0   \n",
       "904          0                                     0   \n",
       "905          0                                     0   \n",
       "906          0                                     0   \n",
       "907          0                                     0   \n",
       "\n",
       "     National Thermal Power Corporation (NTPC)  \n",
       "0                                            0  \n",
       "1                                            0  \n",
       "2                                            0  \n",
       "3                                            0  \n",
       "4                                            0  \n",
       "..                                         ...  \n",
       "903                                          0  \n",
       "904                                          0  \n",
       "905                                          0  \n",
       "906                                          0  \n",
       "907                                          0  \n",
       "\n",
       "[908 rows x 10 columns]"
      ]
     },
     "execution_count": 45,
     "metadata": {},
     "output_type": "execute_result"
    }
   ],
   "source": [
    "X"
   ]
  },
  {
   "cell_type": "code",
   "execution_count": 46,
   "metadata": {},
   "outputs": [
    {
     "data": {
      "text/plain": [
       "0      6\n",
       "1      1\n",
       "2      7\n",
       "3      2\n",
       "4      1\n",
       "      ..\n",
       "903    1\n",
       "904    6\n",
       "905    7\n",
       "906    1\n",
       "907    7\n",
       "Name: primary_fuel, Length: 908, dtype: int32"
      ]
     },
     "execution_count": 46,
     "metadata": {},
     "output_type": "execute_result"
    }
   ],
   "source": [
    "y"
   ]
  },
  {
   "cell_type": "code",
   "execution_count": 80,
   "metadata": {},
   "outputs": [],
   "source": [
    "from sklearn.compose import ColumnTransformer\n",
    "from sklearn.feature_selection import SelectKBest,chi2\n",
    "from sklearn.preprocessing import StandardScaler\n",
    "from sklearn.pipeline import Pipeline\n",
    "from sklearn.linear_model import LogisticRegression\n",
    "from sklearn.tree import DecisionTreeClassifier,ExtraTreeClassifier\n",
    "from sklearn.neighbors import KNeighborsClassifier\n",
    "from sklearn.compose import ColumnTransformer\n",
    "from sklearn.preprocessing import FunctionTransformer,OneHotEncoder,LabelEncoder\n",
    "from sklearn.svm import SVC\n",
    "from sklearn.naive_bayes import GaussianNB\n",
    "from sklearn.ensemble import RandomForestClassifier\n",
    "from sklearn.ensemble import AdaBoostClassifier\n",
    "from sklearn.ensemble import GradientBoostingClassifier,VotingClassifier,BaggingClassifier\n",
    "from sklearn.model_selection import train_test_split,GridSearchCV,cross_val_score,RandomizedSearchCV\n",
    "from sklearn.metrics import accuracy_score,classification_report,confusion_matrix,roc_auc_score\n",
    "from imblearn.over_sampling import SMOTE"
   ]
  },
  {
   "cell_type": "code",
   "execution_count": 48,
   "metadata": {},
   "outputs": [],
   "source": [
    "step1 = ColumnTransformer(transformers=[(\"ohe\",OneHotEncoder(sparse=False,drop=\"first\"),[\"geolocation_source\"])],remainder=\"passthrough\")\n",
    "X=step1.fit_transform(X)"
   ]
  },
  {
   "cell_type": "code",
   "execution_count": 49,
   "metadata": {},
   "outputs": [],
   "source": [
    "X = pd.DataFrame(X)"
   ]
  },
  {
   "cell_type": "code",
   "execution_count": 50,
   "metadata": {},
   "outputs": [
    {
     "data": {
      "text/html": [
       "<div>\n",
       "<style scoped>\n",
       "    .dataframe tbody tr th:only-of-type {\n",
       "        vertical-align: middle;\n",
       "    }\n",
       "\n",
       "    .dataframe tbody tr th {\n",
       "        vertical-align: top;\n",
       "    }\n",
       "\n",
       "    .dataframe thead th {\n",
       "        text-align: right;\n",
       "    }\n",
       "</style>\n",
       "<table border=\"1\" class=\"dataframe\">\n",
       "  <thead>\n",
       "    <tr style=\"text-align: right;\">\n",
       "      <th></th>\n",
       "      <th>0</th>\n",
       "      <th>1</th>\n",
       "      <th>2</th>\n",
       "      <th>3</th>\n",
       "      <th>4</th>\n",
       "      <th>5</th>\n",
       "      <th>6</th>\n",
       "      <th>7</th>\n",
       "      <th>8</th>\n",
       "      <th>9</th>\n",
       "      <th>10</th>\n",
       "    </tr>\n",
       "  </thead>\n",
       "  <tbody>\n",
       "    <tr>\n",
       "      <th>0</th>\n",
       "      <td>1.0</td>\n",
       "      <td>0.0</td>\n",
       "      <td>0.951925</td>\n",
       "      <td>28.1839</td>\n",
       "      <td>0.327991</td>\n",
       "      <td>0.0</td>\n",
       "      <td>0.0</td>\n",
       "      <td>0.0</td>\n",
       "      <td>0.0</td>\n",
       "      <td>1.0</td>\n",
       "      <td>0.0</td>\n",
       "    </tr>\n",
       "    <tr>\n",
       "      <th>1</th>\n",
       "      <td>0.0</td>\n",
       "      <td>1.0</td>\n",
       "      <td>5.575935</td>\n",
       "      <td>24.7663</td>\n",
       "      <td>0.327991</td>\n",
       "      <td>0.0</td>\n",
       "      <td>0.0</td>\n",
       "      <td>0.0</td>\n",
       "      <td>0.0</td>\n",
       "      <td>0.0</td>\n",
       "      <td>0.0</td>\n",
       "    </tr>\n",
       "    <tr>\n",
       "      <th>2</th>\n",
       "      <td>0.0</td>\n",
       "      <td>1.0</td>\n",
       "      <td>4.286397</td>\n",
       "      <td>21.9038</td>\n",
       "      <td>0.327990</td>\n",
       "      <td>0.0</td>\n",
       "      <td>0.0</td>\n",
       "      <td>1.0</td>\n",
       "      <td>0.0</td>\n",
       "      <td>0.0</td>\n",
       "      <td>0.0</td>\n",
       "    </tr>\n",
       "    <tr>\n",
       "      <th>3</th>\n",
       "      <td>0.0</td>\n",
       "      <td>1.0</td>\n",
       "      <td>6.050281</td>\n",
       "      <td>23.8712</td>\n",
       "      <td>0.327991</td>\n",
       "      <td>0.0</td>\n",
       "      <td>1.0</td>\n",
       "      <td>0.0</td>\n",
       "      <td>0.0</td>\n",
       "      <td>0.0</td>\n",
       "      <td>0.0</td>\n",
       "    </tr>\n",
       "    <tr>\n",
       "      <th>4</th>\n",
       "      <td>0.0</td>\n",
       "      <td>1.0</td>\n",
       "      <td>9.218679</td>\n",
       "      <td>21.9603</td>\n",
       "      <td>0.327991</td>\n",
       "      <td>0.0</td>\n",
       "      <td>1.0</td>\n",
       "      <td>0.0</td>\n",
       "      <td>0.0</td>\n",
       "      <td>0.0</td>\n",
       "      <td>0.0</td>\n",
       "    </tr>\n",
       "    <tr>\n",
       "      <th>...</th>\n",
       "      <td>...</td>\n",
       "      <td>...</td>\n",
       "      <td>...</td>\n",
       "      <td>...</td>\n",
       "      <td>...</td>\n",
       "      <td>...</td>\n",
       "      <td>...</td>\n",
       "      <td>...</td>\n",
       "      <td>...</td>\n",
       "      <td>...</td>\n",
       "      <td>...</td>\n",
       "    </tr>\n",
       "    <tr>\n",
       "      <th>903</th>\n",
       "      <td>0.0</td>\n",
       "      <td>1.0</td>\n",
       "      <td>9.218679</td>\n",
       "      <td>16.2949</td>\n",
       "      <td>0.327991</td>\n",
       "      <td>0.0</td>\n",
       "      <td>1.0</td>\n",
       "      <td>0.0</td>\n",
       "      <td>0.0</td>\n",
       "      <td>0.0</td>\n",
       "      <td>0.0</td>\n",
       "    </tr>\n",
       "    <tr>\n",
       "      <th>904</th>\n",
       "      <td>0.0</td>\n",
       "      <td>0.0</td>\n",
       "      <td>1.150097</td>\n",
       "      <td>12.8932</td>\n",
       "      <td>0.327991</td>\n",
       "      <td>0.0</td>\n",
       "      <td>0.0</td>\n",
       "      <td>0.0</td>\n",
       "      <td>0.0</td>\n",
       "      <td>0.0</td>\n",
       "      <td>0.0</td>\n",
       "    </tr>\n",
       "    <tr>\n",
       "      <th>905</th>\n",
       "      <td>0.0</td>\n",
       "      <td>1.0</td>\n",
       "      <td>3.714133</td>\n",
       "      <td>15.2758</td>\n",
       "      <td>0.327991</td>\n",
       "      <td>0.0</td>\n",
       "      <td>0.0</td>\n",
       "      <td>1.0</td>\n",
       "      <td>0.0</td>\n",
       "      <td>0.0</td>\n",
       "      <td>0.0</td>\n",
       "    </tr>\n",
       "    <tr>\n",
       "      <th>906</th>\n",
       "      <td>0.0</td>\n",
       "      <td>1.0</td>\n",
       "      <td>5.281840</td>\n",
       "      <td>24.3500</td>\n",
       "      <td>0.327991</td>\n",
       "      <td>0.0</td>\n",
       "      <td>0.0</td>\n",
       "      <td>0.0</td>\n",
       "      <td>0.0</td>\n",
       "      <td>0.0</td>\n",
       "      <td>0.0</td>\n",
       "    </tr>\n",
       "    <tr>\n",
       "      <th>907</th>\n",
       "      <td>0.0</td>\n",
       "      <td>1.0</td>\n",
       "      <td>3.155161</td>\n",
       "      <td>9.9344</td>\n",
       "      <td>0.327991</td>\n",
       "      <td>0.0</td>\n",
       "      <td>0.0</td>\n",
       "      <td>1.0</td>\n",
       "      <td>0.0</td>\n",
       "      <td>0.0</td>\n",
       "      <td>0.0</td>\n",
       "    </tr>\n",
       "  </tbody>\n",
       "</table>\n",
       "<p>908 rows × 11 columns</p>\n",
       "</div>"
      ],
      "text/plain": [
       "      0    1         2        3         4    5    6    7    8    9    10\n",
       "0    1.0  0.0  0.951925  28.1839  0.327991  0.0  0.0  0.0  0.0  1.0  0.0\n",
       "1    0.0  1.0  5.575935  24.7663  0.327991  0.0  0.0  0.0  0.0  0.0  0.0\n",
       "2    0.0  1.0  4.286397  21.9038  0.327990  0.0  0.0  1.0  0.0  0.0  0.0\n",
       "3    0.0  1.0  6.050281  23.8712  0.327991  0.0  1.0  0.0  0.0  0.0  0.0\n",
       "4    0.0  1.0  9.218679  21.9603  0.327991  0.0  1.0  0.0  0.0  0.0  0.0\n",
       "..   ...  ...       ...      ...       ...  ...  ...  ...  ...  ...  ...\n",
       "903  0.0  1.0  9.218679  16.2949  0.327991  0.0  1.0  0.0  0.0  0.0  0.0\n",
       "904  0.0  0.0  1.150097  12.8932  0.327991  0.0  0.0  0.0  0.0  0.0  0.0\n",
       "905  0.0  1.0  3.714133  15.2758  0.327991  0.0  0.0  1.0  0.0  0.0  0.0\n",
       "906  0.0  1.0  5.281840  24.3500  0.327991  0.0  0.0  0.0  0.0  0.0  0.0\n",
       "907  0.0  1.0  3.155161   9.9344  0.327991  0.0  0.0  1.0  0.0  0.0  0.0\n",
       "\n",
       "[908 rows x 11 columns]"
      ]
     },
     "execution_count": 50,
     "metadata": {},
     "output_type": "execute_result"
    }
   ],
   "source": [
    "X"
   ]
  },
  {
   "cell_type": "markdown",
   "metadata": {},
   "source": [
    "since our output classes are imbalanced we are going to make them balance"
   ]
  },
  {
   "cell_type": "markdown",
   "metadata": {},
   "source": [
    "# Performing SMOTE to make balance classes"
   ]
  },
  {
   "cell_type": "code",
   "execution_count": 57,
   "metadata": {},
   "outputs": [],
   "source": [
    "smote = SMOTE()\n",
    "X,y = smote.fit_resample(X, y)"
   ]
  },
  {
   "cell_type": "code",
   "execution_count": 59,
   "metadata": {},
   "outputs": [
    {
     "data": {
      "text/plain": [
       "7    259\n",
       "5    259\n",
       "3    259\n",
       "1    259\n",
       "6    259\n",
       "4    259\n",
       "2    259\n",
       "0    259\n",
       "Name: primary_fuel, dtype: int64"
      ]
     },
     "execution_count": 59,
     "metadata": {},
     "output_type": "execute_result"
    }
   ],
   "source": [
    "y.value_counts()"
   ]
  },
  {
   "cell_type": "markdown",
   "metadata": {},
   "source": [
    "now classes are balanced and we can no train our models"
   ]
  },
  {
   "cell_type": "markdown",
   "metadata": {},
   "source": [
    "# Creating function to select best model"
   ]
  },
  {
   "cell_type": "code",
   "execution_count": 62,
   "metadata": {},
   "outputs": [],
   "source": [
    "def max_accuracy_score(pipe,X,y):\n",
    "    max_accuracy=0\n",
    "    for i in range(0,100):\n",
    "        X_train,X_test,y_train,y_test=train_test_split(X,y,test_size=.20,random_state=i,stratify=y)\n",
    "        pipe.fit(X_train,y_train)\n",
    "        y_pred=pipe.predict(X_test)\n",
    "        y_train_pred =pipe.predict(X_train)\n",
    "        accuracy_check=accuracy_score(y_test,y_pred)\n",
    "        if accuracy_check>max_accuracy:\n",
    "            max_accuracy=accuracy_check\n",
    "            final_r=i\n",
    "    print('max Accuracy score corresponding to',final_r,'is',max_accuracy)\n",
    "    print('cross validation score',cross_val_score(pipe,X,y,scoring='accuracy').mean()*100)\n",
    "    print('Standard Deviation',cross_val_score(pipe,X,y,scoring='accuracy').std()*100)\n",
    "    print('Training accuracy',round(accuracy_score(y_train_pred,y_train),2)*100)\n",
    "    print('Test Accuracy',round(accuracy_score(y_pred,y_test),2)*100)\n",
    "    print('Confusion Matrix\\n')\n",
    "    print()\n",
    "    print(confusion_matrix(y_test,y_pred))\n",
    "    print('Classification Report',classification_report(y_test,y_pred))"
   ]
  },
  {
   "cell_type": "markdown",
   "metadata": {},
   "source": [
    "# Creating pipeline"
   ]
  },
  {
   "cell_type": "markdown",
   "metadata": {},
   "source": [
    "### LogisticRegression"
   ]
  },
  {
   "cell_type": "code",
   "execution_count": 60,
   "metadata": {},
   "outputs": [],
   "source": [
    "step1 = ColumnTransformer(transformers=[\n",
    "    (\"scaling\",StandardScaler(),slice(0,X.shape[1]+1))\n",
    "],remainder=\"passthrough\")\n",
    "\n",
    "\n",
    "step2 = LogisticRegression()\n",
    "\n",
    "pipe = Pipeline([\n",
    "    \n",
    "    ('step1',step1),\n",
    "    ('step2',step2),\n",
    "])"
   ]
  },
  {
   "cell_type": "code",
   "execution_count": 61,
   "metadata": {},
   "outputs": [
    {
     "data": {
      "text/plain": [
       "Pipeline(steps=[('step1',\n",
       "                 ColumnTransformer(remainder='passthrough',\n",
       "                                   transformers=[('scaling', StandardScaler(),\n",
       "                                                  slice(0, 12, None))])),\n",
       "                ('step2', LogisticRegression())])"
      ]
     },
     "execution_count": 61,
     "metadata": {},
     "output_type": "execute_result"
    }
   ],
   "source": [
    "pipe"
   ]
  },
  {
   "cell_type": "code",
   "execution_count": 63,
   "metadata": {},
   "outputs": [
    {
     "name": "stdout",
     "output_type": "stream",
     "text": [
      "max Accuracy score corresponding to 10 is 0.7421686746987952\n",
      "cross validation score 71.04243059193294\n",
      "Standard Deviation 1.2963329140009066\n",
      "Training accuracy 72.0\n",
      "Test Accuracy 70.0\n",
      "Confusion Matrix\n",
      "\n",
      "\n",
      "[[50  0  0  0  0  2  0  0]\n",
      " [ 4 28  2  6 11  1  0  0]\n",
      " [ 0 10  9  7 17  9  0  0]\n",
      " [ 0  4  6 29  5  8  0  0]\n",
      " [ 0  3  4  3 42  0  0  0]\n",
      " [ 0  2 13  7  1 29  0  0]\n",
      " [ 0  0  0  0  0  0 51  0]\n",
      " [ 0  0  0  0  0  0  0 52]]\n",
      "Classification Report               precision    recall  f1-score   support\n",
      "\n",
      "           0       0.93      0.96      0.94        52\n",
      "           1       0.60      0.54      0.57        52\n",
      "           2       0.26      0.17      0.21        52\n",
      "           3       0.56      0.56      0.56        52\n",
      "           4       0.55      0.81      0.66        52\n",
      "           5       0.59      0.56      0.57        52\n",
      "           6       1.00      1.00      1.00        51\n",
      "           7       1.00      1.00      1.00        52\n",
      "\n",
      "    accuracy                           0.70       415\n",
      "   macro avg       0.69      0.70      0.69       415\n",
      "weighted avg       0.69      0.70      0.69       415\n",
      "\n"
     ]
    }
   ],
   "source": [
    "max_accuracy_score(pipe,X,y)"
   ]
  },
  {
   "cell_type": "markdown",
   "metadata": {},
   "source": [
    "# SVC"
   ]
  },
  {
   "cell_type": "code",
   "execution_count": 64,
   "metadata": {},
   "outputs": [],
   "source": [
    "step1 = ColumnTransformer(transformers=[\n",
    "    (\"scaling\",StandardScaler(),slice(0,X.shape[1]+1))\n",
    "],remainder=\"passthrough\")\n",
    "\n",
    "\n",
    "step2 = SVC()\n",
    "\n",
    "pipe = Pipeline([\n",
    "    \n",
    "    ('step1',step1),\n",
    "    ('step2',step2),\n",
    "])"
   ]
  },
  {
   "cell_type": "code",
   "execution_count": 65,
   "metadata": {},
   "outputs": [
    {
     "name": "stdout",
     "output_type": "stream",
     "text": [
      "max Accuracy score corresponding to 20 is 0.7783132530120482\n",
      "cross validation score 74.37203888015831\n",
      "Standard Deviation 1.1377126062202803\n",
      "Training accuracy 76.0\n",
      "Test Accuracy 72.0\n",
      "Confusion Matrix\n",
      "\n",
      "\n",
      "[[51  1  0  0  0  0  0  0]\n",
      " [ 6 26  2  6 10  2  0  0]\n",
      " [ 0  6  4  9 20 13  0  0]\n",
      " [ 0  1  4 33  7  7  0  0]\n",
      " [ 0  3  2  1 46  0  0  0]\n",
      " [ 0  2  3 10  1 36  0  0]\n",
      " [ 0  0  0  0  0  0 51  0]\n",
      " [ 0  0  0  0  0  0  0 52]]\n",
      "Classification Report               precision    recall  f1-score   support\n",
      "\n",
      "           0       0.89      0.98      0.94        52\n",
      "           1       0.67      0.50      0.57        52\n",
      "           2       0.27      0.08      0.12        52\n",
      "           3       0.56      0.63      0.59        52\n",
      "           4       0.55      0.88      0.68        52\n",
      "           5       0.62      0.69      0.65        52\n",
      "           6       1.00      1.00      1.00        51\n",
      "           7       1.00      1.00      1.00        52\n",
      "\n",
      "    accuracy                           0.72       415\n",
      "   macro avg       0.69      0.72      0.69       415\n",
      "weighted avg       0.69      0.72      0.69       415\n",
      "\n"
     ]
    }
   ],
   "source": [
    "max_accuracy_score(pipe,X,y)"
   ]
  },
  {
   "cell_type": "markdown",
   "metadata": {},
   "source": [
    "# KNN"
   ]
  },
  {
   "cell_type": "code",
   "execution_count": 66,
   "metadata": {},
   "outputs": [],
   "source": [
    "step1 = ColumnTransformer(transformers=[\n",
    "    (\"scaling\",StandardScaler(),slice(0,X.shape[1]+1))\n",
    "],remainder=\"passthrough\")\n",
    "\n",
    "\n",
    "step2 = KNeighborsClassifier()\n",
    "\n",
    "pipe = Pipeline([\n",
    "    \n",
    "    ('step1',step1),\n",
    "    ('step2',step2),\n",
    "])"
   ]
  },
  {
   "cell_type": "code",
   "execution_count": 67,
   "metadata": {},
   "outputs": [
    {
     "name": "stdout",
     "output_type": "stream",
     "text": [
      "max Accuracy score corresponding to 7 is 0.8939759036144578\n",
      "cross validation score 86.14830335836098\n",
      "Standard Deviation 1.4645869191244516\n",
      "Training accuracy 91.0\n",
      "Test Accuracy 85.0\n",
      "Confusion Matrix\n",
      "\n",
      "\n",
      "[[51  1  0  0  0  0  0  0]\n",
      " [ 4 31  4  4  7  2  0  0]\n",
      " [ 0  3 40  3  3  3  0  0]\n",
      " [ 0  3  9 30  5  5  0  0]\n",
      " [ 0  1  1  0 50  0  0  0]\n",
      " [ 0  0  3  2  0 47  0  0]\n",
      " [ 0  0  0  0  0  0 51  0]\n",
      " [ 0  0  0  0  0  0  0 52]]\n",
      "Classification Report               precision    recall  f1-score   support\n",
      "\n",
      "           0       0.93      0.98      0.95        52\n",
      "           1       0.79      0.60      0.68        52\n",
      "           2       0.70      0.77      0.73        52\n",
      "           3       0.77      0.58      0.66        52\n",
      "           4       0.77      0.96      0.85        52\n",
      "           5       0.82      0.90      0.86        52\n",
      "           6       1.00      1.00      1.00        51\n",
      "           7       1.00      1.00      1.00        52\n",
      "\n",
      "    accuracy                           0.85       415\n",
      "   macro avg       0.85      0.85      0.84       415\n",
      "weighted avg       0.85      0.85      0.84       415\n",
      "\n"
     ]
    }
   ],
   "source": [
    "max_accuracy_score(pipe,X,y)"
   ]
  },
  {
   "cell_type": "markdown",
   "metadata": {},
   "source": [
    "# DecissionTree"
   ]
  },
  {
   "cell_type": "code",
   "execution_count": 68,
   "metadata": {},
   "outputs": [],
   "source": [
    "step1 = ColumnTransformer(transformers=[\n",
    "    (\"scaling\",StandardScaler(),slice(0,X.shape[1]+1))\n",
    "],remainder=\"passthrough\")\n",
    "\n",
    "\n",
    "step2 = DecisionTreeClassifier()\n",
    "\n",
    "pipe = Pipeline([\n",
    "    \n",
    "    ('step1',step1),\n",
    "    ('step2',step2),\n",
    "])"
   ]
  },
  {
   "cell_type": "code",
   "execution_count": 69,
   "metadata": {},
   "outputs": [
    {
     "name": "stdout",
     "output_type": "stream",
     "text": [
      "max Accuracy score corresponding to 41 is 0.8939759036144578\n",
      "cross validation score 85.52179733426459\n",
      "Standard Deviation 1.550877209058918\n",
      "Training accuracy 100.0\n",
      "Test Accuracy 80.0\n",
      "Confusion Matrix\n",
      "\n",
      "\n",
      "[[49  3  0  0  0  0  0  0]\n",
      " [ 6 31  5  8  1  1  0  0]\n",
      " [ 0  5 35  4  3  5  0  0]\n",
      " [ 0  3 11 29  3  6  0  0]\n",
      " [ 0  8  2  1 41  0  0  0]\n",
      " [ 0  1  2  4  0 45  0  0]\n",
      " [ 0  1  0  0  0  0 50  0]\n",
      " [ 0  0  0  0  0  0  0 52]]\n",
      "Classification Report               precision    recall  f1-score   support\n",
      "\n",
      "           0       0.89      0.94      0.92        52\n",
      "           1       0.60      0.60      0.60        52\n",
      "           2       0.64      0.67      0.65        52\n",
      "           3       0.63      0.56      0.59        52\n",
      "           4       0.85      0.79      0.82        52\n",
      "           5       0.79      0.87      0.83        52\n",
      "           6       1.00      0.98      0.99        51\n",
      "           7       1.00      1.00      1.00        52\n",
      "\n",
      "    accuracy                           0.80       415\n",
      "   macro avg       0.80      0.80      0.80       415\n",
      "weighted avg       0.80      0.80      0.80       415\n",
      "\n"
     ]
    }
   ],
   "source": [
    "max_accuracy_score(pipe,X,y)"
   ]
  },
  {
   "cell_type": "markdown",
   "metadata": {},
   "source": [
    "# Random Forest"
   ]
  },
  {
   "cell_type": "code",
   "execution_count": 74,
   "metadata": {},
   "outputs": [],
   "source": [
    "step1 = ColumnTransformer(transformers=[\n",
    "    (\"scaling\",StandardScaler(),slice(0,X.shape[1]+1))\n",
    "],remainder=\"passthrough\")\n",
    "\n",
    "\n",
    "step2 = RandomForestClassifier()\n",
    "\n",
    "pipe = Pipeline([\n",
    "    \n",
    "    ('step1',step1),\n",
    "    ('step2',step2),\n",
    "])"
   ]
  },
  {
   "cell_type": "code",
   "execution_count": 75,
   "metadata": {},
   "outputs": [
    {
     "name": "stdout",
     "output_type": "stream",
     "text": [
      "max Accuracy score corresponding to 41 is 0.927710843373494\n",
      "cross validation score 88.94825679529713\n",
      "Standard Deviation 0.9426848386096927\n",
      "Training accuracy 100.0\n",
      "Test Accuracy 88.0\n",
      "Confusion Matrix\n",
      "\n",
      "\n",
      "[[51  1  0  0  0  0  0  0]\n",
      " [ 5 39  2  4  1  1  0  0]\n",
      " [ 0  3 41  2  4  2  0  0]\n",
      " [ 0  2  7 36  4  3  0  0]\n",
      " [ 0  3  1  0 48  0  0  0]\n",
      " [ 0  1  1  3  0 47  0  0]\n",
      " [ 0  0  0  0  0  0 51  0]\n",
      " [ 0  0  0  0  0  0  0 52]]\n",
      "Classification Report               precision    recall  f1-score   support\n",
      "\n",
      "           0       0.91      0.98      0.94        52\n",
      "           1       0.80      0.75      0.77        52\n",
      "           2       0.79      0.79      0.79        52\n",
      "           3       0.80      0.69      0.74        52\n",
      "           4       0.84      0.92      0.88        52\n",
      "           5       0.89      0.90      0.90        52\n",
      "           6       1.00      1.00      1.00        51\n",
      "           7       1.00      1.00      1.00        52\n",
      "\n",
      "    accuracy                           0.88       415\n",
      "   macro avg       0.88      0.88      0.88       415\n",
      "weighted avg       0.88      0.88      0.88       415\n",
      "\n"
     ]
    }
   ],
   "source": [
    "max_accuracy_score(pipe,X,y)"
   ]
  },
  {
   "cell_type": "markdown",
   "metadata": {},
   "source": [
    "# GradientBoostingClassifier"
   ]
  },
  {
   "cell_type": "code",
   "execution_count": 76,
   "metadata": {},
   "outputs": [],
   "source": [
    "step1 = ColumnTransformer(transformers=[\n",
    "    (\"scaling\",StandardScaler(),slice(0,X.shape[1]+1))\n",
    "],remainder=\"passthrough\")\n",
    "\n",
    "\n",
    "step2 = GradientBoostingClassifier(random_state=0)\n",
    "\n",
    "pipe = Pipeline([\n",
    "    \n",
    "    ('step1',step1),\n",
    "    ('step2',step2),\n",
    "])"
   ]
  },
  {
   "cell_type": "code",
   "execution_count": 77,
   "metadata": {},
   "outputs": [
    {
     "name": "stdout",
     "output_type": "stream",
     "text": [
      "max Accuracy score corresponding to 41 is 0.9036144578313253\n",
      "cross validation score 87.50037832489377\n",
      "Standard Deviation 1.1326463247571315\n",
      "Training accuracy 98.0\n",
      "Test Accuracy 87.0\n",
      "Confusion Matrix\n",
      "\n",
      "\n",
      "[[50  2  0  0  0  0  0  0]\n",
      " [ 7 34  2  4  4  1  0  0]\n",
      " [ 0  5 39  1  4  3  0  0]\n",
      " [ 0  1  7 38  5  1  0  0]\n",
      " [ 0  2  0  0 50  0  0  0]\n",
      " [ 0  0  2  3  2 45  0  0]\n",
      " [ 0  0  0  0  0  0 51  0]\n",
      " [ 0  0  0  0  0  0  0 52]]\n",
      "Classification Report               precision    recall  f1-score   support\n",
      "\n",
      "           0       0.88      0.96      0.92        52\n",
      "           1       0.77      0.65      0.71        52\n",
      "           2       0.78      0.75      0.76        52\n",
      "           3       0.83      0.73      0.78        52\n",
      "           4       0.77      0.96      0.85        52\n",
      "           5       0.90      0.87      0.88        52\n",
      "           6       1.00      1.00      1.00        51\n",
      "           7       1.00      1.00      1.00        52\n",
      "\n",
      "    accuracy                           0.87       415\n",
      "   macro avg       0.87      0.87      0.86       415\n",
      "weighted avg       0.87      0.87      0.86       415\n",
      "\n"
     ]
    }
   ],
   "source": [
    "max_accuracy_score(pipe,X,y)"
   ]
  },
  {
   "cell_type": "markdown",
   "metadata": {},
   "source": [
    "# AdaBoostClassifier"
   ]
  },
  {
   "cell_type": "code",
   "execution_count": 78,
   "metadata": {},
   "outputs": [],
   "source": [
    "step1 = ColumnTransformer(transformers=[\n",
    "    (\"scaling\",StandardScaler(),slice(0,X.shape[1]+1))\n",
    "],remainder=\"passthrough\")\n",
    "\n",
    "\n",
    "step2 = AdaBoostClassifier(random_state=0)\n",
    "\n",
    "pipe = Pipeline([\n",
    "    \n",
    "    ('step1',step1),\n",
    "    ('step2',step2),\n",
    "])"
   ]
  },
  {
   "cell_type": "code",
   "execution_count": 79,
   "metadata": {},
   "outputs": [
    {
     "name": "stdout",
     "output_type": "stream",
     "text": [
      "max Accuracy score corresponding to 2 is 0.37349397590361444\n",
      "cross validation score 37.258716023514346\n",
      "Standard Deviation 0.11906995760236022\n",
      "Training accuracy 38.0\n",
      "Test Accuracy 37.0\n",
      "Confusion Matrix\n",
      "\n",
      "\n",
      "[[52  0  0  0  0  0  0  0]\n",
      " [52  0  0  0  0  0  0  0]\n",
      " [52  0  0  0  0  0  0  0]\n",
      " [52  0  0  0  0  0  0  0]\n",
      " [52  0  0  0  0  0  0  0]\n",
      " [52  0  0  0  0  0  0  0]\n",
      " [ 0  0  0  0  0  0 51  0]\n",
      " [ 0  0  0  0  0  0  0 52]]\n",
      "Classification Report               precision    recall  f1-score   support\n",
      "\n",
      "           0       0.17      1.00      0.29        52\n",
      "           1       0.00      0.00      0.00        52\n",
      "           2       0.00      0.00      0.00        52\n",
      "           3       0.00      0.00      0.00        52\n",
      "           4       0.00      0.00      0.00        52\n",
      "           5       0.00      0.00      0.00        52\n",
      "           6       1.00      1.00      1.00        51\n",
      "           7       1.00      1.00      1.00        52\n",
      "\n",
      "    accuracy                           0.37       415\n",
      "   macro avg       0.27      0.38      0.29       415\n",
      "weighted avg       0.27      0.37      0.28       415\n",
      "\n"
     ]
    }
   ],
   "source": [
    "max_accuracy_score(pipe,X,y)"
   ]
  },
  {
   "cell_type": "markdown",
   "metadata": {},
   "source": [
    "# ExtraTreeClassifier"
   ]
  },
  {
   "cell_type": "code",
   "execution_count": 81,
   "metadata": {},
   "outputs": [],
   "source": [
    "step1 = ColumnTransformer(transformers=[\n",
    "    (\"scaling\",StandardScaler(),slice(0,X.shape[1]+1))\n",
    "],remainder=\"passthrough\")\n",
    "\n",
    "\n",
    "step2 = ExtraTreeClassifier()\n",
    "\n",
    "pipe = Pipeline([\n",
    "    \n",
    "    ('step1',step1),\n",
    "    ('step2',step2),\n",
    "])"
   ]
  },
  {
   "cell_type": "code",
   "execution_count": 83,
   "metadata": {},
   "outputs": [
    {
     "name": "stdout",
     "output_type": "stream",
     "text": [
      "max Accuracy score corresponding to 41 is 0.8939759036144578\n",
      "cross validation score 83.78418019905712\n",
      "Standard Deviation 2.101696725809449\n",
      "Training accuracy 100.0\n",
      "Test Accuracy 82.0\n",
      "Confusion Matrix\n",
      "\n",
      "\n",
      "[[50  2  0  0  0  0  0  0]\n",
      " [ 2 34  4  6  4  1  1  0]\n",
      " [ 0  6 34  5  5  2  0  0]\n",
      " [ 0  4  7 37  4  0  0  0]\n",
      " [ 0  6  3  1 41  1  0  0]\n",
      " [ 0  2  3  1  4 42  0  0]\n",
      " [ 0  1  0  0  0  0 50  0]\n",
      " [ 0  0  0  0  0  0  0 52]]\n",
      "Classification Report               precision    recall  f1-score   support\n",
      "\n",
      "           0       0.96      0.96      0.96        52\n",
      "           1       0.62      0.65      0.64        52\n",
      "           2       0.67      0.65      0.66        52\n",
      "           3       0.74      0.71      0.73        52\n",
      "           4       0.71      0.79      0.75        52\n",
      "           5       0.91      0.81      0.86        52\n",
      "           6       0.98      0.98      0.98        51\n",
      "           7       1.00      1.00      1.00        52\n",
      "\n",
      "    accuracy                           0.82       415\n",
      "   macro avg       0.82      0.82      0.82       415\n",
      "weighted avg       0.82      0.82      0.82       415\n",
      "\n"
     ]
    }
   ],
   "source": [
    "max_accuracy_score(pipe,X,y)"
   ]
  },
  {
   "cell_type": "markdown",
   "metadata": {},
   "source": [
    "# VotingClassifier"
   ]
  },
  {
   "cell_type": "code",
   "execution_count": 85,
   "metadata": {},
   "outputs": [],
   "source": [
    "step1 = ColumnTransformer(transformers=[\n",
    "    (\"scaling\",StandardScaler(),slice(0,X.shape[1]+1))\n",
    "],remainder=\"passthrough\")\n",
    " \n",
    "gb = GradientBoostingClassifier(random_state=0)    \n",
    "rf = RandomForestClassifier()\n",
    "\n",
    "est = [(\"gb\",gb),('rf',rf)]\n",
    "\n",
    "step2 = VotingClassifier(estimators=est)\n",
    "\n",
    "pipe = Pipeline([\n",
    "    \n",
    "    ('step1',step1),\n",
    "    ('step2',step2),\n",
    "])"
   ]
  },
  {
   "cell_type": "code",
   "execution_count": 86,
   "metadata": {},
   "outputs": [
    {
     "name": "stdout",
     "output_type": "stream",
     "text": [
      "max Accuracy score corresponding to 42 is 0.9204819277108434\n",
      "cross validation score 88.46516500785752\n",
      "Standard Deviation 0.7920727368358808\n",
      "Training accuracy 99.0\n",
      "Test Accuracy 87.0\n",
      "Confusion Matrix\n",
      "\n",
      "\n",
      "[[51  1  0  0  0  0  0  0]\n",
      " [ 7 36  3  4  1  1  0  0]\n",
      " [ 0  5 42  1  3  1  0  0]\n",
      " [ 0  4  9 36  3  0  0  0]\n",
      " [ 0  4  1  0 47  0  0  0]\n",
      " [ 0  1  3  3  1 44  0  0]\n",
      " [ 0  0  0  0  0  0 51  0]\n",
      " [ 0  0  0  0  0  0  0 52]]\n",
      "Classification Report               precision    recall  f1-score   support\n",
      "\n",
      "           0       0.88      0.98      0.93        52\n",
      "           1       0.71      0.69      0.70        52\n",
      "           2       0.72      0.81      0.76        52\n",
      "           3       0.82      0.69      0.75        52\n",
      "           4       0.85      0.90      0.88        52\n",
      "           5       0.96      0.85      0.90        52\n",
      "           6       1.00      1.00      1.00        51\n",
      "           7       1.00      1.00      1.00        52\n",
      "\n",
      "    accuracy                           0.87       415\n",
      "   macro avg       0.87      0.87      0.86       415\n",
      "weighted avg       0.87      0.87      0.86       415\n",
      "\n"
     ]
    }
   ],
   "source": [
    "max_accuracy_score(pipe,X,y)"
   ]
  },
  {
   "cell_type": "markdown",
   "metadata": {},
   "source": [
    "# BaggingClassifier"
   ]
  },
  {
   "cell_type": "code",
   "execution_count": 87,
   "metadata": {},
   "outputs": [],
   "source": [
    "step1 = ColumnTransformer(transformers=[\n",
    "    (\"scaling\",StandardScaler(),slice(0,X.shape[1]+1))\n",
    "],remainder=\"passthrough\")\n",
    " \n",
    "\n",
    "step2 = BaggingClassifier()\n",
    "\n",
    "pipe = Pipeline([\n",
    "    \n",
    "    ('step1',step1),\n",
    "    ('step2',step2),\n",
    "])"
   ]
  },
  {
   "cell_type": "code",
   "execution_count": 88,
   "metadata": {},
   "outputs": [
    {
     "name": "stdout",
     "output_type": "stream",
     "text": [
      "max Accuracy score corresponding to 41 is 0.9132530120481928\n",
      "cross validation score 87.1629125196438\n",
      "Standard Deviation 1.24317416077748\n",
      "Training accuracy 99.0\n",
      "Test Accuracy 86.0\n",
      "Confusion Matrix\n",
      "\n",
      "\n",
      "[[50  2  0  0  0  0  0  0]\n",
      " [ 5 38  3  4  1  1  0  0]\n",
      " [ 0  2 42  1  4  3  0  0]\n",
      " [ 0  5 11 31  2  3  0  0]\n",
      " [ 0  3  2  0 47  0  0  0]\n",
      " [ 0  1  1  4  0 46  0  0]\n",
      " [ 0  0  0  0  0  0 51  0]\n",
      " [ 0  0  0  0  0  0  0 52]]\n",
      "Classification Report               precision    recall  f1-score   support\n",
      "\n",
      "           0       0.91      0.96      0.93        52\n",
      "           1       0.75      0.73      0.74        52\n",
      "           2       0.71      0.81      0.76        52\n",
      "           3       0.78      0.60      0.67        52\n",
      "           4       0.87      0.90      0.89        52\n",
      "           5       0.87      0.88      0.88        52\n",
      "           6       1.00      1.00      1.00        51\n",
      "           7       1.00      1.00      1.00        52\n",
      "\n",
      "    accuracy                           0.86       415\n",
      "   macro avg       0.86      0.86      0.86       415\n",
      "weighted avg       0.86      0.86      0.86       415\n",
      "\n"
     ]
    }
   ],
   "source": [
    "max_accuracy_score(pipe,X,y)"
   ]
  },
  {
   "cell_type": "markdown",
   "metadata": {},
   "source": [
    "Since Gradient Boosting Classifier performs best among all the other models hence selecting GradientBoostingClassifier as the best model"
   ]
  },
  {
   "cell_type": "code",
   "execution_count": 89,
   "metadata": {},
   "outputs": [
    {
     "name": "stdout",
     "output_type": "stream",
     "text": [
      "Training_accuracy :  0.9740494870247435\n",
      "Testing_accuracy :  0.9036144578313253\n"
     ]
    }
   ],
   "source": [
    "step1 = ColumnTransformer(transformers=[\n",
    "    (\"scaling\",StandardScaler(),slice(0,X.shape[1]+1))\n",
    "],remainder=\"passthrough\")\n",
    "\n",
    "\n",
    "step2 = GradientBoostingClassifier(random_state=0)\n",
    "\n",
    "pipe = Pipeline([\n",
    "    \n",
    "    ('step1',step1),\n",
    "    ('step2',step2),\n",
    "])\n",
    "X_train,X_test,y_train,y_test=train_test_split(X,y,test_size=.20,random_state=41,stratify=y)\n",
    "pipe.fit(X_train,y_train)\n",
    "y_pred = pipe.predict(X_test)\n",
    "y_train_pred = pipe.predict(X_train)\n",
    "\n",
    "print(\"Training_accuracy : \",accuracy_score(y_train,y_train_pred))\n",
    "print(\"Testing_accuracy : \",accuracy_score(y_test,y_pred))"
   ]
  },
  {
   "cell_type": "markdown",
   "metadata": {},
   "source": [
    "# Hyper Parameter Tuning"
   ]
  },
  {
   "cell_type": "code",
   "execution_count": 109,
   "metadata": {},
   "outputs": [],
   "source": [
    "params = {\n",
    "    \n",
    "    \"step2__learning_rate\":np.arange(.1,.9,.1),\n",
    "    \"step2__n_estimators\":[100,200,300,400,500,600],\n",
    "    \"step2__max_depth\":np.arange(3,10,1),\n",
    "    \"step2__max_features\":np.arange(.5,.75,.05)\n",
    "    \n",
    "}"
   ]
  },
  {
   "cell_type": "code",
   "execution_count": 110,
   "metadata": {},
   "outputs": [],
   "source": [
    "randomscv=RandomizedSearchCV(pipe,params,cv=10,n_jobs=-1,scoring=\"accuracy\")"
   ]
  },
  {
   "cell_type": "code",
   "execution_count": 111,
   "metadata": {},
   "outputs": [
    {
     "data": {
      "text/plain": [
       "RandomizedSearchCV(cv=10,\n",
       "                   estimator=Pipeline(steps=[('step1',\n",
       "                                              ColumnTransformer(remainder='passthrough',\n",
       "                                                                transformers=[('scaling',\n",
       "                                                                               StandardScaler(),\n",
       "                                                                               slice(0, 12, None))])),\n",
       "                                             ('step2',\n",
       "                                              GradientBoostingClassifier(random_state=0))]),\n",
       "                   n_jobs=-1,\n",
       "                   param_distributions={'step2__learning_rate': array([0.1, 0.2, 0.3, 0.4, 0.5, 0.6, 0.7, 0.8]),\n",
       "                                        'step2__max_depth': array([3, 4, 5, 6, 7, 8, 9]),\n",
       "                                        'step2__max_features': array([0.5 , 0.55, 0.6 , 0.65, 0.7 ]),\n",
       "                                        'step2__n_estimators': [100, 200, 300,\n",
       "                                                                400, 500,\n",
       "                                                                600]},\n",
       "                   scoring='accuracy')"
      ]
     },
     "execution_count": 111,
     "metadata": {},
     "output_type": "execute_result"
    }
   ],
   "source": [
    "randomscv.fit(X_train,y_train)"
   ]
  },
  {
   "cell_type": "code",
   "execution_count": 112,
   "metadata": {},
   "outputs": [
    {
     "data": {
      "text/plain": [
       "{'step2__n_estimators': 200,\n",
       " 'step2__max_features': 0.5,\n",
       " 'step2__max_depth': 6,\n",
       " 'step2__learning_rate': 0.7000000000000001}"
      ]
     },
     "execution_count": 112,
     "metadata": {},
     "output_type": "execute_result"
    }
   ],
   "source": [
    "randomscv.best_params_"
   ]
  },
  {
   "cell_type": "code",
   "execution_count": 116,
   "metadata": {},
   "outputs": [
    {
     "name": "stdout",
     "output_type": "stream",
     "text": [
      "Accuracy Score  93.0\n",
      "cross validation score 88.804027705023\n",
      "Standard Deviation 1.429115669001169\n",
      "Confusion Matrix\n",
      "\n",
      "\n",
      "[[52  0  0  0  0  0  0  0]\n",
      " [ 1 44  1  3  2  1  0  0]\n",
      " [ 0  2 44  3  2  1  0  0]\n",
      " [ 0  4  3 41  2  2  0  0]\n",
      " [ 0  1  1  0 50  0  0  0]\n",
      " [ 0  1  0  1  0 50  0  0]\n",
      " [ 0  0  0  0  0  0 51  0]\n",
      " [ 0  0  0  0  0  0  0 52]]\n",
      "Classification Report               precision    recall  f1-score   support\n",
      "\n",
      "           0       0.98      1.00      0.99        52\n",
      "           1       0.85      0.85      0.85        52\n",
      "           2       0.90      0.85      0.87        52\n",
      "           3       0.85      0.79      0.82        52\n",
      "           4       0.89      0.96      0.93        52\n",
      "           5       0.93      0.96      0.94        52\n",
      "           6       1.00      1.00      1.00        51\n",
      "           7       1.00      1.00      1.00        52\n",
      "\n",
      "    accuracy                           0.93       415\n",
      "   macro avg       0.92      0.93      0.92       415\n",
      "weighted avg       0.92      0.93      0.92       415\n",
      "\n"
     ]
    }
   ],
   "source": [
    "step1 = ColumnTransformer(transformers=[\n",
    "    (\"scaling\",StandardScaler(),slice(0,X.shape[1]+1))\n",
    "],remainder=\"passthrough\")\n",
    "\n",
    "\n",
    "step2 = GradientBoostingClassifier(n_estimators=200,max_features=0.5,max_depth=6,learning_rate=0.70,random_state=0)\n",
    "\n",
    "pipe = Pipeline([\n",
    "    \n",
    "    ('step1',step1),\n",
    "    ('step2',step2),\n",
    "])\n",
    "X_train,X_test,y_train,y_test=train_test_split(X,y,test_size=.20,random_state=41,stratify=y)\n",
    "pipe.fit(X_train,y_train)\n",
    "y_pred = pipe.predict(X_test)\n",
    "y_train_pred = pipe.predict(X_train)\n",
    "\n",
    "print('Accuracy Score ',round(accuracy_score(y_pred,y_test),2)*100)\n",
    "print('cross validation score',cross_val_score(pipe,X,y,scoring='accuracy').mean()*100)\n",
    "print('Standard Deviation',cross_val_score(pipe,X,y,scoring='accuracy').std()*100)\n",
    "print('Confusion Matrix\\n')\n",
    "print()\n",
    "print(confusion_matrix(y_test,y_pred))\n",
    "print('Classification Report',classification_report(y_test,y_pred))"
   ]
  },
  {
   "cell_type": "markdown",
   "metadata": {},
   "source": [
    "After  hyper parameter tuning accuracy is increased by 3% and Precission recall and f1-score is also increased"
   ]
  },
  {
   "cell_type": "markdown",
   "metadata": {},
   "source": [
    "# Confussion metrics"
   ]
  },
  {
   "cell_type": "code",
   "execution_count": 124,
   "metadata": {},
   "outputs": [
    {
     "data": {
      "image/png": "[encoded data removed]",
      "text/plain": [
       "<Figure size 432x288 with 2 Axes>"
      ]
     },
     "metadata": {
      "needs_background": "light"
     },
     "output_type": "display_data"
    }
   ],
   "source": [
    "metrics.plot_confusion_matrix(pipe, X_test, y_test, cmap='mako')\n",
    "plt.title(' Confusion Matrix for Decision Tree Classifier \\n')\n",
    "plt.show()"
   ]
  },
  {
   "cell_type": "markdown",
   "metadata": {},
   "source": [
    "# Saving the model"
   ]
  },
  {
   "cell_type": "code",
   "execution_count": 126,
   "metadata": {},
   "outputs": [],
   "source": [
    "import pickle\n",
    "pickle.dump(pipe,open(\"Global_pp_clf.pkl\",\"wb\"))"
   ]
  },
  {
   "cell_type": "markdown",
   "metadata": {},
   "source": [
    "# Predictions"
   ]
  },
  {
   "cell_type": "code",
   "execution_count": 127,
   "metadata": {},
   "outputs": [],
   "source": [
    "original_values  = np.array(y_test)\n",
    "predicted_values = np.array(pipe.predict(X_test))\n",
    "values = pd.DataFrame({'Original_values':original_values , 'predicted_values':predicted_values})"
   ]
  },
  {
   "cell_type": "code",
   "execution_count": 128,
   "metadata": {},
   "outputs": [
    {
     "data": {
      "text/html": [
       "<div>\n",
       "<style scoped>\n",
       "    .dataframe tbody tr th:only-of-type {\n",
       "        vertical-align: middle;\n",
       "    }\n",
       "\n",
       "    .dataframe tbody tr th {\n",
       "        vertical-align: top;\n",
       "    }\n",
       "\n",
       "    .dataframe thead th {\n",
       "        text-align: right;\n",
       "    }\n",
       "</style>\n",
       "<table border=\"1\" class=\"dataframe\">\n",
       "  <thead>\n",
       "    <tr style=\"text-align: right;\">\n",
       "      <th></th>\n",
       "      <th>Original_values</th>\n",
       "      <th>predicted_values</th>\n",
       "    </tr>\n",
       "  </thead>\n",
       "  <tbody>\n",
       "    <tr>\n",
       "      <th>0</th>\n",
       "      <td>6</td>\n",
       "      <td>6</td>\n",
       "    </tr>\n",
       "    <tr>\n",
       "      <th>1</th>\n",
       "      <td>5</td>\n",
       "      <td>5</td>\n",
       "    </tr>\n",
       "    <tr>\n",
       "      <th>2</th>\n",
       "      <td>2</td>\n",
       "      <td>2</td>\n",
       "    </tr>\n",
       "    <tr>\n",
       "      <th>3</th>\n",
       "      <td>4</td>\n",
       "      <td>4</td>\n",
       "    </tr>\n",
       "    <tr>\n",
       "      <th>4</th>\n",
       "      <td>3</td>\n",
       "      <td>3</td>\n",
       "    </tr>\n",
       "    <tr>\n",
       "      <th>...</th>\n",
       "      <td>...</td>\n",
       "      <td>...</td>\n",
       "    </tr>\n",
       "    <tr>\n",
       "      <th>410</th>\n",
       "      <td>1</td>\n",
       "      <td>1</td>\n",
       "    </tr>\n",
       "    <tr>\n",
       "      <th>411</th>\n",
       "      <td>4</td>\n",
       "      <td>4</td>\n",
       "    </tr>\n",
       "    <tr>\n",
       "      <th>412</th>\n",
       "      <td>0</td>\n",
       "      <td>0</td>\n",
       "    </tr>\n",
       "    <tr>\n",
       "      <th>413</th>\n",
       "      <td>2</td>\n",
       "      <td>2</td>\n",
       "    </tr>\n",
       "    <tr>\n",
       "      <th>414</th>\n",
       "      <td>6</td>\n",
       "      <td>6</td>\n",
       "    </tr>\n",
       "  </tbody>\n",
       "</table>\n",
       "<p>415 rows × 2 columns</p>\n",
       "</div>"
      ],
      "text/plain": [
       "     Original_values  predicted_values\n",
       "0                  6                 6\n",
       "1                  5                 5\n",
       "2                  2                 2\n",
       "3                  4                 4\n",
       "4                  3                 3\n",
       "..               ...               ...\n",
       "410                1                 1\n",
       "411                4                 4\n",
       "412                0                 0\n",
       "413                2                 2\n",
       "414                6                 6\n",
       "\n",
       "[415 rows x 2 columns]"
      ]
     },
     "execution_count": 128,
     "metadata": {},
     "output_type": "execute_result"
    }
   ],
   "source": [
    "values"
   ]
  },
  {
   "cell_type": "markdown",
   "metadata": {},
   "source": [
    "# FOR REGRESSION PROBLEM"
   ]
  },
  {
   "cell_type": "code",
   "execution_count": 131,
   "metadata": {},
   "outputs": [
    {
     "data": {
      "text/html": [
       "<div>\n",
       "<style scoped>\n",
       "    .dataframe tbody tr th:only-of-type {\n",
       "        vertical-align: middle;\n",
       "    }\n",
       "\n",
       "    .dataframe tbody tr th {\n",
       "        vertical-align: top;\n",
       "    }\n",
       "\n",
       "    .dataframe thead th {\n",
       "        text-align: right;\n",
       "    }\n",
       "</style>\n",
       "<table border=\"1\" class=\"dataframe\">\n",
       "  <thead>\n",
       "    <tr style=\"text-align: right;\">\n",
       "      <th></th>\n",
       "      <th>capacity_mw</th>\n",
       "      <th>latitude</th>\n",
       "      <th>longitude</th>\n",
       "      <th>primary_fuel</th>\n",
       "      <th>source</th>\n",
       "      <th>geolocation_source</th>\n",
       "      <th>geolocation_source_Indicator</th>\n",
       "      <th>Central Electricity Authority</th>\n",
       "      <th>CDM</th>\n",
       "      <th>Lancosola</th>\n",
       "      <th>National Renewable Energy Laboratory</th>\n",
       "      <th>National Thermal Power Corporation (NTPC)</th>\n",
       "    </tr>\n",
       "  </thead>\n",
       "  <tbody>\n",
       "    <tr>\n",
       "      <th>0</th>\n",
       "      <td>0.951925</td>\n",
       "      <td>28.1839</td>\n",
       "      <td>0.327991</td>\n",
       "      <td>6</td>\n",
       "      <td>National Renewable Energy Laboratory</td>\n",
       "      <td>National Renewable Energy Laboratory</td>\n",
       "      <td>0</td>\n",
       "      <td>0</td>\n",
       "      <td>0</td>\n",
       "      <td>0</td>\n",
       "      <td>1</td>\n",
       "      <td>0</td>\n",
       "    </tr>\n",
       "    <tr>\n",
       "      <th>1</th>\n",
       "      <td>5.575935</td>\n",
       "      <td>24.7663</td>\n",
       "      <td>0.327991</td>\n",
       "      <td>1</td>\n",
       "      <td>Ultratech Cement ltd</td>\n",
       "      <td>WRI</td>\n",
       "      <td>0</td>\n",
       "      <td>0</td>\n",
       "      <td>0</td>\n",
       "      <td>0</td>\n",
       "      <td>0</td>\n",
       "      <td>0</td>\n",
       "    </tr>\n",
       "    <tr>\n",
       "      <th>2</th>\n",
       "      <td>4.286397</td>\n",
       "      <td>21.9038</td>\n",
       "      <td>0.327990</td>\n",
       "      <td>7</td>\n",
       "      <td>CDM</td>\n",
       "      <td>WRI</td>\n",
       "      <td>0</td>\n",
       "      <td>0</td>\n",
       "      <td>1</td>\n",
       "      <td>0</td>\n",
       "      <td>0</td>\n",
       "      <td>0</td>\n",
       "    </tr>\n",
       "    <tr>\n",
       "      <th>3</th>\n",
       "      <td>6.050281</td>\n",
       "      <td>23.8712</td>\n",
       "      <td>0.327991</td>\n",
       "      <td>2</td>\n",
       "      <td>Central Electricity Authority</td>\n",
       "      <td>WRI</td>\n",
       "      <td>0</td>\n",
       "      <td>1</td>\n",
       "      <td>0</td>\n",
       "      <td>0</td>\n",
       "      <td>0</td>\n",
       "      <td>0</td>\n",
       "    </tr>\n",
       "    <tr>\n",
       "      <th>4</th>\n",
       "      <td>9.218679</td>\n",
       "      <td>21.9603</td>\n",
       "      <td>0.327991</td>\n",
       "      <td>1</td>\n",
       "      <td>Central Electricity Authority</td>\n",
       "      <td>WRI</td>\n",
       "      <td>0</td>\n",
       "      <td>1</td>\n",
       "      <td>0</td>\n",
       "      <td>0</td>\n",
       "      <td>0</td>\n",
       "      <td>0</td>\n",
       "    </tr>\n",
       "    <tr>\n",
       "      <th>...</th>\n",
       "      <td>...</td>\n",
       "      <td>...</td>\n",
       "      <td>...</td>\n",
       "      <td>...</td>\n",
       "      <td>...</td>\n",
       "      <td>...</td>\n",
       "      <td>...</td>\n",
       "      <td>...</td>\n",
       "      <td>...</td>\n",
       "      <td>...</td>\n",
       "      <td>...</td>\n",
       "      <td>...</td>\n",
       "    </tr>\n",
       "    <tr>\n",
       "      <th>903</th>\n",
       "      <td>9.218679</td>\n",
       "      <td>16.2949</td>\n",
       "      <td>0.327991</td>\n",
       "      <td>1</td>\n",
       "      <td>Central Electricity Authority</td>\n",
       "      <td>WRI</td>\n",
       "      <td>0</td>\n",
       "      <td>1</td>\n",
       "      <td>0</td>\n",
       "      <td>0</td>\n",
       "      <td>0</td>\n",
       "      <td>0</td>\n",
       "    </tr>\n",
       "    <tr>\n",
       "      <th>904</th>\n",
       "      <td>1.150097</td>\n",
       "      <td>12.8932</td>\n",
       "      <td>0.327991</td>\n",
       "      <td>6</td>\n",
       "      <td>Karnataka Power Corporation Limited</td>\n",
       "      <td>Industry About</td>\n",
       "      <td>0</td>\n",
       "      <td>0</td>\n",
       "      <td>0</td>\n",
       "      <td>0</td>\n",
       "      <td>0</td>\n",
       "      <td>0</td>\n",
       "    </tr>\n",
       "    <tr>\n",
       "      <th>905</th>\n",
       "      <td>3.714133</td>\n",
       "      <td>15.2758</td>\n",
       "      <td>0.327991</td>\n",
       "      <td>7</td>\n",
       "      <td>CDM</td>\n",
       "      <td>WRI</td>\n",
       "      <td>0</td>\n",
       "      <td>0</td>\n",
       "      <td>1</td>\n",
       "      <td>0</td>\n",
       "      <td>0</td>\n",
       "      <td>0</td>\n",
       "    </tr>\n",
       "    <tr>\n",
       "      <th>906</th>\n",
       "      <td>5.281840</td>\n",
       "      <td>24.3500</td>\n",
       "      <td>0.327991</td>\n",
       "      <td>1</td>\n",
       "      <td>Hindustan Zinc ltd</td>\n",
       "      <td>WRI</td>\n",
       "      <td>0</td>\n",
       "      <td>0</td>\n",
       "      <td>0</td>\n",
       "      <td>0</td>\n",
       "      <td>0</td>\n",
       "      <td>0</td>\n",
       "    </tr>\n",
       "    <tr>\n",
       "      <th>907</th>\n",
       "      <td>3.155161</td>\n",
       "      <td>9.9344</td>\n",
       "      <td>0.327991</td>\n",
       "      <td>7</td>\n",
       "      <td>CDM</td>\n",
       "      <td>WRI</td>\n",
       "      <td>0</td>\n",
       "      <td>0</td>\n",
       "      <td>1</td>\n",
       "      <td>0</td>\n",
       "      <td>0</td>\n",
       "      <td>0</td>\n",
       "    </tr>\n",
       "  </tbody>\n",
       "</table>\n",
       "<p>908 rows × 12 columns</p>\n",
       "</div>"
      ],
      "text/plain": [
       "     capacity_mw  latitude  longitude  primary_fuel  \\\n",
       "0       0.951925   28.1839   0.327991             6   \n",
       "1       5.575935   24.7663   0.327991             1   \n",
       "2       4.286397   21.9038   0.327990             7   \n",
       "3       6.050281   23.8712   0.327991             2   \n",
       "4       9.218679   21.9603   0.327991             1   \n",
       "..           ...       ...        ...           ...   \n",
       "903     9.218679   16.2949   0.327991             1   \n",
       "904     1.150097   12.8932   0.327991             6   \n",
       "905     3.714133   15.2758   0.327991             7   \n",
       "906     5.281840   24.3500   0.327991             1   \n",
       "907     3.155161    9.9344   0.327991             7   \n",
       "\n",
       "                                   source  \\\n",
       "0    National Renewable Energy Laboratory   \n",
       "1                    Ultratech Cement ltd   \n",
       "2                                     CDM   \n",
       "3           Central Electricity Authority   \n",
       "4           Central Electricity Authority   \n",
       "..                                    ...   \n",
       "903         Central Electricity Authority   \n",
       "904   Karnataka Power Corporation Limited   \n",
       "905                                   CDM   \n",
       "906                    Hindustan Zinc ltd   \n",
       "907                                   CDM   \n",
       "\n",
       "                       geolocation_source  geolocation_source_Indicator  \\\n",
       "0    National Renewable Energy Laboratory                             0   \n",
       "1                                     WRI                             0   \n",
       "2                                     WRI                             0   \n",
       "3                                     WRI                             0   \n",
       "4                                     WRI                             0   \n",
       "..                                    ...                           ...   \n",
       "903                                   WRI                             0   \n",
       "904                        Industry About                             0   \n",
       "905                                   WRI                             0   \n",
       "906                                   WRI                             0   \n",
       "907                                   WRI                             0   \n",
       "\n",
       "     Central Electricity Authority  CDM  Lancosola  \\\n",
       "0                                0    0          0   \n",
       "1                                0    0          0   \n",
       "2                                0    1          0   \n",
       "3                                1    0          0   \n",
       "4                                1    0          0   \n",
       "..                             ...  ...        ...   \n",
       "903                              1    0          0   \n",
       "904                              0    0          0   \n",
       "905                              0    1          0   \n",
       "906                              0    0          0   \n",
       "907                              0    1          0   \n",
       "\n",
       "     National Renewable Energy Laboratory  \\\n",
       "0                                       1   \n",
       "1                                       0   \n",
       "2                                       0   \n",
       "3                                       0   \n",
       "4                                       0   \n",
       "..                                    ...   \n",
       "903                                     0   \n",
       "904                                     0   \n",
       "905                                     0   \n",
       "906                                     0   \n",
       "907                                     0   \n",
       "\n",
       "     National Thermal Power Corporation (NTPC)  \n",
       "0                                            0  \n",
       "1                                            0  \n",
       "2                                            0  \n",
       "3                                            0  \n",
       "4                                            0  \n",
       "..                                         ...  \n",
       "903                                          0  \n",
       "904                                          0  \n",
       "905                                          0  \n",
       "906                                          0  \n",
       "907                                          0  \n",
       "\n",
       "[908 rows x 12 columns]"
      ]
     },
     "execution_count": 131,
     "metadata": {},
     "output_type": "execute_result"
    }
   ],
   "source": [
    "df"
   ]
  },
  {
   "cell_type": "markdown",
   "metadata": {},
   "source": [
    "# saperating input and output labels"
   ]
  },
  {
   "cell_type": "code",
   "execution_count": 132,
   "metadata": {},
   "outputs": [],
   "source": [
    "X = df.drop(columns=[\"capacity_mw\",\"source\"])\n",
    "y = df[\"capacity_mw\"]"
   ]
  },
  {
   "cell_type": "code",
   "execution_count": 133,
   "metadata": {},
   "outputs": [
    {
     "data": {
      "text/html": [
       "<div>\n",
       "<style scoped>\n",
       "    .dataframe tbody tr th:only-of-type {\n",
       "        vertical-align: middle;\n",
       "    }\n",
       "\n",
       "    .dataframe tbody tr th {\n",
       "        vertical-align: top;\n",
       "    }\n",
       "\n",
       "    .dataframe thead th {\n",
       "        text-align: right;\n",
       "    }\n",
       "</style>\n",
       "<table border=\"1\" class=\"dataframe\">\n",
       "  <thead>\n",
       "    <tr style=\"text-align: right;\">\n",
       "      <th></th>\n",
       "      <th>latitude</th>\n",
       "      <th>longitude</th>\n",
       "      <th>primary_fuel</th>\n",
       "      <th>geolocation_source</th>\n",
       "      <th>geolocation_source_Indicator</th>\n",
       "      <th>Central Electricity Authority</th>\n",
       "      <th>CDM</th>\n",
       "      <th>Lancosola</th>\n",
       "      <th>National Renewable Energy Laboratory</th>\n",
       "      <th>National Thermal Power Corporation (NTPC)</th>\n",
       "    </tr>\n",
       "  </thead>\n",
       "  <tbody>\n",
       "    <tr>\n",
       "      <th>0</th>\n",
       "      <td>28.1839</td>\n",
       "      <td>0.327991</td>\n",
       "      <td>6</td>\n",
       "      <td>National Renewable Energy Laboratory</td>\n",
       "      <td>0</td>\n",
       "      <td>0</td>\n",
       "      <td>0</td>\n",
       "      <td>0</td>\n",
       "      <td>1</td>\n",
       "      <td>0</td>\n",
       "    </tr>\n",
       "    <tr>\n",
       "      <th>1</th>\n",
       "      <td>24.7663</td>\n",
       "      <td>0.327991</td>\n",
       "      <td>1</td>\n",
       "      <td>WRI</td>\n",
       "      <td>0</td>\n",
       "      <td>0</td>\n",
       "      <td>0</td>\n",
       "      <td>0</td>\n",
       "      <td>0</td>\n",
       "      <td>0</td>\n",
       "    </tr>\n",
       "    <tr>\n",
       "      <th>2</th>\n",
       "      <td>21.9038</td>\n",
       "      <td>0.327990</td>\n",
       "      <td>7</td>\n",
       "      <td>WRI</td>\n",
       "      <td>0</td>\n",
       "      <td>0</td>\n",
       "      <td>1</td>\n",
       "      <td>0</td>\n",
       "      <td>0</td>\n",
       "      <td>0</td>\n",
       "    </tr>\n",
       "    <tr>\n",
       "      <th>3</th>\n",
       "      <td>23.8712</td>\n",
       "      <td>0.327991</td>\n",
       "      <td>2</td>\n",
       "      <td>WRI</td>\n",
       "      <td>0</td>\n",
       "      <td>1</td>\n",
       "      <td>0</td>\n",
       "      <td>0</td>\n",
       "      <td>0</td>\n",
       "      <td>0</td>\n",
       "    </tr>\n",
       "    <tr>\n",
       "      <th>4</th>\n",
       "      <td>21.9603</td>\n",
       "      <td>0.327991</td>\n",
       "      <td>1</td>\n",
       "      <td>WRI</td>\n",
       "      <td>0</td>\n",
       "      <td>1</td>\n",
       "      <td>0</td>\n",
       "      <td>0</td>\n",
       "      <td>0</td>\n",
       "      <td>0</td>\n",
       "    </tr>\n",
       "    <tr>\n",
       "      <th>...</th>\n",
       "      <td>...</td>\n",
       "      <td>...</td>\n",
       "      <td>...</td>\n",
       "      <td>...</td>\n",
       "      <td>...</td>\n",
       "      <td>...</td>\n",
       "      <td>...</td>\n",
       "      <td>...</td>\n",
       "      <td>...</td>\n",
       "      <td>...</td>\n",
       "    </tr>\n",
       "    <tr>\n",
       "      <th>903</th>\n",
       "      <td>16.2949</td>\n",
       "      <td>0.327991</td>\n",
       "      <td>1</td>\n",
       "      <td>WRI</td>\n",
       "      <td>0</td>\n",
       "      <td>1</td>\n",
       "      <td>0</td>\n",
       "      <td>0</td>\n",
       "      <td>0</td>\n",
       "      <td>0</td>\n",
       "    </tr>\n",
       "    <tr>\n",
       "      <th>904</th>\n",
       "      <td>12.8932</td>\n",
       "      <td>0.327991</td>\n",
       "      <td>6</td>\n",
       "      <td>Industry About</td>\n",
       "      <td>0</td>\n",
       "      <td>0</td>\n",
       "      <td>0</td>\n",
       "      <td>0</td>\n",
       "      <td>0</td>\n",
       "      <td>0</td>\n",
       "    </tr>\n",
       "    <tr>\n",
       "      <th>905</th>\n",
       "      <td>15.2758</td>\n",
       "      <td>0.327991</td>\n",
       "      <td>7</td>\n",
       "      <td>WRI</td>\n",
       "      <td>0</td>\n",
       "      <td>0</td>\n",
       "      <td>1</td>\n",
       "      <td>0</td>\n",
       "      <td>0</td>\n",
       "      <td>0</td>\n",
       "    </tr>\n",
       "    <tr>\n",
       "      <th>906</th>\n",
       "      <td>24.3500</td>\n",
       "      <td>0.327991</td>\n",
       "      <td>1</td>\n",
       "      <td>WRI</td>\n",
       "      <td>0</td>\n",
       "      <td>0</td>\n",
       "      <td>0</td>\n",
       "      <td>0</td>\n",
       "      <td>0</td>\n",
       "      <td>0</td>\n",
       "    </tr>\n",
       "    <tr>\n",
       "      <th>907</th>\n",
       "      <td>9.9344</td>\n",
       "      <td>0.327991</td>\n",
       "      <td>7</td>\n",
       "      <td>WRI</td>\n",
       "      <td>0</td>\n",
       "      <td>0</td>\n",
       "      <td>1</td>\n",
       "      <td>0</td>\n",
       "      <td>0</td>\n",
       "      <td>0</td>\n",
       "    </tr>\n",
       "  </tbody>\n",
       "</table>\n",
       "<p>908 rows × 10 columns</p>\n",
       "</div>"
      ],
      "text/plain": [
       "     latitude  longitude  primary_fuel                    geolocation_source  \\\n",
       "0     28.1839   0.327991             6  National Renewable Energy Laboratory   \n",
       "1     24.7663   0.327991             1                                   WRI   \n",
       "2     21.9038   0.327990             7                                   WRI   \n",
       "3     23.8712   0.327991             2                                   WRI   \n",
       "4     21.9603   0.327991             1                                   WRI   \n",
       "..        ...        ...           ...                                   ...   \n",
       "903   16.2949   0.327991             1                                   WRI   \n",
       "904   12.8932   0.327991             6                        Industry About   \n",
       "905   15.2758   0.327991             7                                   WRI   \n",
       "906   24.3500   0.327991             1                                   WRI   \n",
       "907    9.9344   0.327991             7                                   WRI   \n",
       "\n",
       "     geolocation_source_Indicator  Central Electricity Authority  CDM  \\\n",
       "0                               0                              0    0   \n",
       "1                               0                              0    0   \n",
       "2                               0                              0    1   \n",
       "3                               0                              1    0   \n",
       "4                               0                              1    0   \n",
       "..                            ...                            ...  ...   \n",
       "903                             0                              1    0   \n",
       "904                             0                              0    0   \n",
       "905                             0                              0    1   \n",
       "906                             0                              0    0   \n",
       "907                             0                              0    1   \n",
       "\n",
       "     Lancosola  National Renewable Energy Laboratory  \\\n",
       "0            0                                     1   \n",
       "1            0                                     0   \n",
       "2            0                                     0   \n",
       "3            0                                     0   \n",
       "4            0                                     0   \n",
       "..         ...                                   ...   \n",
       "903          0                                     0   \n",
       "904          0                                     0   \n",
       "905          0                                     0   \n",
       "906          0                                     0   \n",
       "907          0                                     0   \n",
       "\n",
       "     National Thermal Power Corporation (NTPC)  \n",
       "0                                            0  \n",
       "1                                            0  \n",
       "2                                            0  \n",
       "3                                            0  \n",
       "4                                            0  \n",
       "..                                         ...  \n",
       "903                                          0  \n",
       "904                                          0  \n",
       "905                                          0  \n",
       "906                                          0  \n",
       "907                                          0  \n",
       "\n",
       "[908 rows x 10 columns]"
      ]
     },
     "execution_count": 133,
     "metadata": {},
     "output_type": "execute_result"
    }
   ],
   "source": [
    "X"
   ]
  },
  {
   "cell_type": "code",
   "execution_count": 134,
   "metadata": {},
   "outputs": [
    {
     "data": {
      "text/plain": [
       "0      0.951925\n",
       "1      5.575935\n",
       "2      4.286397\n",
       "3      6.050281\n",
       "4      9.218679\n",
       "         ...   \n",
       "903    9.218679\n",
       "904    1.150097\n",
       "905    3.714133\n",
       "906    5.281840\n",
       "907    3.155161\n",
       "Name: capacity_mw, Length: 908, dtype: float64"
      ]
     },
     "execution_count": 134,
     "metadata": {},
     "output_type": "execute_result"
    }
   ],
   "source": [
    "y"
   ]
  },
  {
   "cell_type": "markdown",
   "metadata": {},
   "source": [
    "# One Hot Encoding for geolocation_source column"
   ]
  },
  {
   "cell_type": "code",
   "execution_count": 135,
   "metadata": {},
   "outputs": [],
   "source": [
    "step1 = ColumnTransformer(transformers=[(\"ohe\",OneHotEncoder(sparse=False,drop=\"first\"),[\"geolocation_source\"])],remainder=\"passthrough\")\n",
    "X=step1.fit_transform(X)"
   ]
  },
  {
   "cell_type": "code",
   "execution_count": 137,
   "metadata": {},
   "outputs": [],
   "source": [
    "X = pd.DataFrame(X)"
   ]
  },
  {
   "cell_type": "code",
   "execution_count": 138,
   "metadata": {},
   "outputs": [
    {
     "data": {
      "text/html": [
       "<div>\n",
       "<style scoped>\n",
       "    .dataframe tbody tr th:only-of-type {\n",
       "        vertical-align: middle;\n",
       "    }\n",
       "\n",
       "    .dataframe tbody tr th {\n",
       "        vertical-align: top;\n",
       "    }\n",
       "\n",
       "    .dataframe thead th {\n",
       "        text-align: right;\n",
       "    }\n",
       "</style>\n",
       "<table border=\"1\" class=\"dataframe\">\n",
       "  <thead>\n",
       "    <tr style=\"text-align: right;\">\n",
       "      <th></th>\n",
       "      <th>0</th>\n",
       "      <th>1</th>\n",
       "      <th>2</th>\n",
       "      <th>3</th>\n",
       "      <th>4</th>\n",
       "      <th>5</th>\n",
       "      <th>6</th>\n",
       "      <th>7</th>\n",
       "      <th>8</th>\n",
       "      <th>9</th>\n",
       "      <th>10</th>\n",
       "    </tr>\n",
       "  </thead>\n",
       "  <tbody>\n",
       "    <tr>\n",
       "      <th>0</th>\n",
       "      <td>1.0</td>\n",
       "      <td>0.0</td>\n",
       "      <td>28.1839</td>\n",
       "      <td>0.327991</td>\n",
       "      <td>6.0</td>\n",
       "      <td>0.0</td>\n",
       "      <td>0.0</td>\n",
       "      <td>0.0</td>\n",
       "      <td>0.0</td>\n",
       "      <td>1.0</td>\n",
       "      <td>0.0</td>\n",
       "    </tr>\n",
       "    <tr>\n",
       "      <th>1</th>\n",
       "      <td>0.0</td>\n",
       "      <td>1.0</td>\n",
       "      <td>24.7663</td>\n",
       "      <td>0.327991</td>\n",
       "      <td>1.0</td>\n",
       "      <td>0.0</td>\n",
       "      <td>0.0</td>\n",
       "      <td>0.0</td>\n",
       "      <td>0.0</td>\n",
       "      <td>0.0</td>\n",
       "      <td>0.0</td>\n",
       "    </tr>\n",
       "    <tr>\n",
       "      <th>2</th>\n",
       "      <td>0.0</td>\n",
       "      <td>1.0</td>\n",
       "      <td>21.9038</td>\n",
       "      <td>0.327990</td>\n",
       "      <td>7.0</td>\n",
       "      <td>0.0</td>\n",
       "      <td>0.0</td>\n",
       "      <td>1.0</td>\n",
       "      <td>0.0</td>\n",
       "      <td>0.0</td>\n",
       "      <td>0.0</td>\n",
       "    </tr>\n",
       "    <tr>\n",
       "      <th>3</th>\n",
       "      <td>0.0</td>\n",
       "      <td>1.0</td>\n",
       "      <td>23.8712</td>\n",
       "      <td>0.327991</td>\n",
       "      <td>2.0</td>\n",
       "      <td>0.0</td>\n",
       "      <td>1.0</td>\n",
       "      <td>0.0</td>\n",
       "      <td>0.0</td>\n",
       "      <td>0.0</td>\n",
       "      <td>0.0</td>\n",
       "    </tr>\n",
       "    <tr>\n",
       "      <th>4</th>\n",
       "      <td>0.0</td>\n",
       "      <td>1.0</td>\n",
       "      <td>21.9603</td>\n",
       "      <td>0.327991</td>\n",
       "      <td>1.0</td>\n",
       "      <td>0.0</td>\n",
       "      <td>1.0</td>\n",
       "      <td>0.0</td>\n",
       "      <td>0.0</td>\n",
       "      <td>0.0</td>\n",
       "      <td>0.0</td>\n",
       "    </tr>\n",
       "    <tr>\n",
       "      <th>...</th>\n",
       "      <td>...</td>\n",
       "      <td>...</td>\n",
       "      <td>...</td>\n",
       "      <td>...</td>\n",
       "      <td>...</td>\n",
       "      <td>...</td>\n",
       "      <td>...</td>\n",
       "      <td>...</td>\n",
       "      <td>...</td>\n",
       "      <td>...</td>\n",
       "      <td>...</td>\n",
       "    </tr>\n",
       "    <tr>\n",
       "      <th>903</th>\n",
       "      <td>0.0</td>\n",
       "      <td>1.0</td>\n",
       "      <td>16.2949</td>\n",
       "      <td>0.327991</td>\n",
       "      <td>1.0</td>\n",
       "      <td>0.0</td>\n",
       "      <td>1.0</td>\n",
       "      <td>0.0</td>\n",
       "      <td>0.0</td>\n",
       "      <td>0.0</td>\n",
       "      <td>0.0</td>\n",
       "    </tr>\n",
       "    <tr>\n",
       "      <th>904</th>\n",
       "      <td>0.0</td>\n",
       "      <td>0.0</td>\n",
       "      <td>12.8932</td>\n",
       "      <td>0.327991</td>\n",
       "      <td>6.0</td>\n",
       "      <td>0.0</td>\n",
       "      <td>0.0</td>\n",
       "      <td>0.0</td>\n",
       "      <td>0.0</td>\n",
       "      <td>0.0</td>\n",
       "      <td>0.0</td>\n",
       "    </tr>\n",
       "    <tr>\n",
       "      <th>905</th>\n",
       "      <td>0.0</td>\n",
       "      <td>1.0</td>\n",
       "      <td>15.2758</td>\n",
       "      <td>0.327991</td>\n",
       "      <td>7.0</td>\n",
       "      <td>0.0</td>\n",
       "      <td>0.0</td>\n",
       "      <td>1.0</td>\n",
       "      <td>0.0</td>\n",
       "      <td>0.0</td>\n",
       "      <td>0.0</td>\n",
       "    </tr>\n",
       "    <tr>\n",
       "      <th>906</th>\n",
       "      <td>0.0</td>\n",
       "      <td>1.0</td>\n",
       "      <td>24.3500</td>\n",
       "      <td>0.327991</td>\n",
       "      <td>1.0</td>\n",
       "      <td>0.0</td>\n",
       "      <td>0.0</td>\n",
       "      <td>0.0</td>\n",
       "      <td>0.0</td>\n",
       "      <td>0.0</td>\n",
       "      <td>0.0</td>\n",
       "    </tr>\n",
       "    <tr>\n",
       "      <th>907</th>\n",
       "      <td>0.0</td>\n",
       "      <td>1.0</td>\n",
       "      <td>9.9344</td>\n",
       "      <td>0.327991</td>\n",
       "      <td>7.0</td>\n",
       "      <td>0.0</td>\n",
       "      <td>0.0</td>\n",
       "      <td>1.0</td>\n",
       "      <td>0.0</td>\n",
       "      <td>0.0</td>\n",
       "      <td>0.0</td>\n",
       "    </tr>\n",
       "  </tbody>\n",
       "</table>\n",
       "<p>908 rows × 11 columns</p>\n",
       "</div>"
      ],
      "text/plain": [
       "      0    1        2         3    4    5    6    7    8    9    10\n",
       "0    1.0  0.0  28.1839  0.327991  6.0  0.0  0.0  0.0  0.0  1.0  0.0\n",
       "1    0.0  1.0  24.7663  0.327991  1.0  0.0  0.0  0.0  0.0  0.0  0.0\n",
       "2    0.0  1.0  21.9038  0.327990  7.0  0.0  0.0  1.0  0.0  0.0  0.0\n",
       "3    0.0  1.0  23.8712  0.327991  2.0  0.0  1.0  0.0  0.0  0.0  0.0\n",
       "4    0.0  1.0  21.9603  0.327991  1.0  0.0  1.0  0.0  0.0  0.0  0.0\n",
       "..   ...  ...      ...       ...  ...  ...  ...  ...  ...  ...  ...\n",
       "903  0.0  1.0  16.2949  0.327991  1.0  0.0  1.0  0.0  0.0  0.0  0.0\n",
       "904  0.0  0.0  12.8932  0.327991  6.0  0.0  0.0  0.0  0.0  0.0  0.0\n",
       "905  0.0  1.0  15.2758  0.327991  7.0  0.0  0.0  1.0  0.0  0.0  0.0\n",
       "906  0.0  1.0  24.3500  0.327991  1.0  0.0  0.0  0.0  0.0  0.0  0.0\n",
       "907  0.0  1.0   9.9344  0.327991  7.0  0.0  0.0  1.0  0.0  0.0  0.0\n",
       "\n",
       "[908 rows x 11 columns]"
      ]
     },
     "execution_count": 138,
     "metadata": {},
     "output_type": "execute_result"
    }
   ],
   "source": [
    "X"
   ]
  },
  {
   "cell_type": "code",
   "execution_count": 139,
   "metadata": {},
   "outputs": [
    {
     "data": {
      "text/plain": [
       "0      0.951925\n",
       "1      5.575935\n",
       "2      4.286397\n",
       "3      6.050281\n",
       "4      9.218679\n",
       "         ...   \n",
       "903    9.218679\n",
       "904    1.150097\n",
       "905    3.714133\n",
       "906    5.281840\n",
       "907    3.155161\n",
       "Name: capacity_mw, Length: 908, dtype: float64"
      ]
     },
     "execution_count": 139,
     "metadata": {},
     "output_type": "execute_result"
    }
   ],
   "source": [
    "y"
   ]
  },
  {
   "cell_type": "code",
   "execution_count": 140,
   "metadata": {},
   "outputs": [],
   "source": [
    "from sklearn.model_selection import train_test_split\n",
    "from sklearn.metrics import r2_score, mean_squared_error, accuracy_score, mean_absolute_error\n",
    "from sklearn.compose import ColumnTransformer\n",
    "from sklearn.preprocessing import StandardScaler\n",
    "from sklearn.pipeline import Pipeline\n",
    "from sklearn.model_selection import cross_val_score,GridSearchCV,train_test_split,RandomizedSearchCV\n",
    "from sklearn.linear_model import LinearRegression,Ridge,Lasso,ElasticNet\n",
    "from sklearn.neighbors import KNeighborsRegressor\n",
    "from sklearn.tree import DecisionTreeRegressor\n",
    "from sklearn.ensemble import RandomForestRegressor,GradientBoostingRegressor,AdaBoostRegressor,ExtraTreesRegressor\n",
    "from sklearn.svm import SVR\n",
    "from xgboost import XGBRegressor\n",
    "from sklearn.ensemble import VotingRegressor,StackingRegressor\n",
    "from sklearn.ensemble import BaggingRegressor"
   ]
  },
  {
   "cell_type": "markdown",
   "metadata": {},
   "source": [
    "# Creating a function to find best random state for models"
   ]
  },
  {
   "cell_type": "code",
   "execution_count": 141,
   "metadata": {},
   "outputs": [],
   "source": [
    "def Best_model(pipe,X,y):\n",
    "    Maximum_R2_score=0\n",
    "    for random_state in range(42,100):\n",
    "        X_train,X_test,y_train,y_test=train_test_split(X,y,test_size=.20,random_state=random_state)\n",
    "        pipe.fit(X_train,y_train)\n",
    "        y_pred=pipe.predict(X_test)\n",
    "        R2_score=r2_score(y_test,y_pred)\n",
    "        if R2_score>Maximum_R2_score:\n",
    "            Maximum_R2_score=R2_score\n",
    "            final_random_state=random_state\n",
    "    print(f'At random state :-- {final_random_state}')\n",
    "    print('Maximum r2 score is',  round(Maximum_R2_score ,4))\n",
    "    print('cross validation score',round(cross_val_score(pipe,X,y,scoring='r2').mean(),2))\n",
    "    print('Standard Deviation',round(cross_val_score(pipe,X,y,scoring='r2').std(),2))\n",
    "    print('Training accuracy',round(pipe.score(X_train,y_train),2))\n",
    "    print('Test Accuracy',round(pipe.score(X_test,y_test),2))\n",
    "    print('MAE',round(mean_absolute_error(y_test,y_pred),2))\n",
    "    print('MSE',round(mean_squared_error(y_test,y_pred),2))\n",
    "    print('RMSE',round(np.sqrt(mean_squared_error(y_test,y_pred)),2))"
   ]
  },
  {
   "cell_type": "markdown",
   "metadata": {},
   "source": [
    "# Creating Pipeline"
   ]
  },
  {
   "cell_type": "markdown",
   "metadata": {},
   "source": [
    "## LinearRegression"
   ]
  },
  {
   "cell_type": "code",
   "execution_count": 142,
   "metadata": {},
   "outputs": [
    {
     "name": "stdout",
     "output_type": "stream",
     "text": [
      "At random state :-- 83\n",
      "Maximum r2 score is 0.6245\n",
      "cross validation score 0.51\n",
      "Standard Deviation 0.02\n",
      "Training accuracy 0.54\n",
      "Test Accuracy 0.45\n",
      "MAE 1.5\n",
      "MSE 3.46\n",
      "RMSE 1.86\n"
     ]
    }
   ],
   "source": [
    "step1 = ColumnTransformer(transformers=[\n",
    "    ('Scaler',StandardScaler(),slice(0,X.shape[1]+1))\n",
    "],remainder='passthrough')\n",
    "\n",
    "step2 = LinearRegression()\n",
    "\n",
    "pipe = Pipeline([\n",
    "    ('step1',step1),\n",
    "    ('step2',step2)\n",
    "])\n",
    "\n",
    "Best_model(pipe,X,y)"
   ]
  },
  {
   "cell_type": "markdown",
   "metadata": {},
   "source": [
    "# KNeighborsRegressor"
   ]
  },
  {
   "cell_type": "code",
   "execution_count": 143,
   "metadata": {},
   "outputs": [
    {
     "name": "stdout",
     "output_type": "stream",
     "text": [
      "At random state :-- 83\n",
      "Maximum r2 score is 0.7116\n",
      "cross validation score 0.59\n",
      "Standard Deviation 0.03\n",
      "Training accuracy 0.74\n",
      "Test Accuracy 0.56\n",
      "MAE 1.28\n",
      "MSE 2.81\n",
      "RMSE 1.68\n"
     ]
    }
   ],
   "source": [
    "step1 = ColumnTransformer(transformers=[\n",
    "    ('Scaler',StandardScaler(),slice(0,X.shape[1]+1))\n",
    "],remainder='passthrough')\n",
    "\n",
    "step2 = KNeighborsRegressor()\n",
    "\n",
    "pipe = Pipeline([\n",
    "    ('step1',step1),\n",
    "    ('step2',step2)\n",
    "])\n",
    "\n",
    "Best_model(pipe,X,y)"
   ]
  },
  {
   "cell_type": "markdown",
   "metadata": {},
   "source": [
    "# SVR"
   ]
  },
  {
   "cell_type": "code",
   "execution_count": 144,
   "metadata": {},
   "outputs": [
    {
     "name": "stdout",
     "output_type": "stream",
     "text": [
      "At random state :-- 83\n",
      "Maximum r2 score is 0.6687\n",
      "cross validation score 0.57\n",
      "Standard Deviation 0.04\n",
      "Training accuracy 0.61\n",
      "Test Accuracy 0.48\n",
      "MAE 1.39\n",
      "MSE 3.27\n",
      "RMSE 1.81\n"
     ]
    }
   ],
   "source": [
    "step1 = ColumnTransformer(transformers=[\n",
    "    ('Scaler',StandardScaler(),slice(0,X.shape[1]+1))\n",
    "],remainder='passthrough')\n",
    "\n",
    "step2 = SVR()\n",
    "\n",
    "pipe = Pipeline([\n",
    "    ('step1',step1),\n",
    "    ('step2',step2)\n",
    "])\n",
    "\n",
    "Best_model(pipe,X,y)"
   ]
  },
  {
   "cell_type": "markdown",
   "metadata": {},
   "source": [
    "# RandomForestRegressor"
   ]
  },
  {
   "cell_type": "code",
   "execution_count": 145,
   "metadata": {},
   "outputs": [
    {
     "name": "stdout",
     "output_type": "stream",
     "text": [
      "At random state :-- 61\n",
      "Maximum r2 score is 0.6987\n",
      "cross validation score 0.6\n",
      "Standard Deviation 0.03\n",
      "Training accuracy 0.93\n",
      "Test Accuracy 0.55\n",
      "MAE 1.26\n",
      "MSE 2.87\n",
      "RMSE 1.7\n"
     ]
    }
   ],
   "source": [
    "step1 = ColumnTransformer(transformers=[\n",
    "    ('Scaler',StandardScaler(),slice(0,X.shape[1]+1))\n",
    "],remainder='passthrough')\n",
    "\n",
    "step2 = RandomForestRegressor()\n",
    "\n",
    "pipe = Pipeline([\n",
    "    ('step1',step1),\n",
    "    ('step2',step2)\n",
    "])\n",
    "\n",
    "Best_model(pipe,X,y)"
   ]
  },
  {
   "cell_type": "markdown",
   "metadata": {},
   "source": [
    "# DecisionTreeRegressor"
   ]
  },
  {
   "cell_type": "code",
   "execution_count": 146,
   "metadata": {},
   "outputs": [
    {
     "name": "stdout",
     "output_type": "stream",
     "text": [
      "At random state :-- 66\n",
      "Maximum r2 score is 0.5755\n",
      "cross validation score 0.42\n",
      "Standard Deviation 0.07\n",
      "Training accuracy 0.98\n",
      "Test Accuracy 0.38\n",
      "MAE 1.46\n",
      "MSE 3.93\n",
      "RMSE 1.98\n"
     ]
    }
   ],
   "source": [
    "step1 = ColumnTransformer(transformers=[\n",
    "    ('Scaler',StandardScaler(),slice(0,X.shape[1]+1))\n",
    "],remainder='passthrough')\n",
    "\n",
    "step2 = DecisionTreeRegressor()\n",
    "\n",
    "pipe = Pipeline([\n",
    "    ('step1',step1),\n",
    "    ('step2',step2)\n",
    "])\n",
    "\n",
    "Best_model(pipe,X,y)"
   ]
  },
  {
   "cell_type": "markdown",
   "metadata": {},
   "source": [
    "# Ridge"
   ]
  },
  {
   "cell_type": "code",
   "execution_count": 147,
   "metadata": {},
   "outputs": [
    {
     "name": "stdout",
     "output_type": "stream",
     "text": [
      "At random state :-- 83\n",
      "Maximum r2 score is 0.6238\n",
      "cross validation score 0.51\n",
      "Standard Deviation 0.02\n",
      "Training accuracy 0.54\n",
      "Test Accuracy 0.45\n",
      "MAE 1.5\n",
      "MSE 3.47\n",
      "RMSE 1.86\n"
     ]
    }
   ],
   "source": [
    "step1 = ColumnTransformer(transformers=[\n",
    "    ('Scaler',StandardScaler(),slice(0,X.shape[1]+1))\n",
    "],remainder='passthrough')\n",
    "\n",
    "step2 = Ridge()\n",
    "\n",
    "pipe = Pipeline([\n",
    "    ('step1',step1),\n",
    "    ('step2',step2)\n",
    "])\n",
    "\n",
    "Best_model(pipe,X,y)"
   ]
  },
  {
   "cell_type": "markdown",
   "metadata": {},
   "source": [
    "# Lasso"
   ]
  },
  {
   "cell_type": "code",
   "execution_count": 148,
   "metadata": {},
   "outputs": [
    {
     "name": "stdout",
     "output_type": "stream",
     "text": [
      "At random state :-- 59\n",
      "Maximum r2 score is 0.3029\n",
      "cross validation score 0.26\n",
      "Standard Deviation 0.03\n",
      "Training accuracy 0.29\n",
      "Test Accuracy 0.26\n",
      "MAE 1.79\n",
      "MSE 4.66\n",
      "RMSE 2.16\n"
     ]
    }
   ],
   "source": [
    "step1 = ColumnTransformer(transformers=[\n",
    "    ('Scaler',StandardScaler(),slice(0,X.shape[1]+1))\n",
    "],remainder='passthrough')\n",
    "\n",
    "step2 = Lasso()\n",
    "\n",
    "pipe = Pipeline([\n",
    "    ('step1',step1),\n",
    "    ('step2',step2)\n",
    "])\n",
    "\n",
    "Best_model(pipe,X,y)"
   ]
  },
  {
   "cell_type": "markdown",
   "metadata": {},
   "source": [
    "# ElasticNet"
   ]
  },
  {
   "cell_type": "code",
   "execution_count": 149,
   "metadata": {},
   "outputs": [
    {
     "name": "stdout",
     "output_type": "stream",
     "text": [
      "At random state :-- 51\n",
      "Maximum r2 score is 0.3992\n",
      "cross validation score 0.36\n",
      "Standard Deviation 0.02\n",
      "Training accuracy 0.38\n",
      "Test Accuracy 0.33\n",
      "MAE 1.71\n",
      "MSE 4.21\n",
      "RMSE 2.05\n"
     ]
    }
   ],
   "source": [
    "step1 = ColumnTransformer(transformers=[\n",
    "    ('Scaler',StandardScaler(),slice(0,X.shape[1]+1))\n",
    "],remainder='passthrough')\n",
    "\n",
    "step2 = ElasticNet()\n",
    "\n",
    "pipe = Pipeline([\n",
    "    ('step1',step1),\n",
    "    ('step2',step2)\n",
    "])\n",
    "\n",
    "Best_model(pipe,X,y)"
   ]
  },
  {
   "cell_type": "markdown",
   "metadata": {},
   "source": [
    "# AdaBoostRegressor"
   ]
  },
  {
   "cell_type": "code",
   "execution_count": 150,
   "metadata": {},
   "outputs": [
    {
     "name": "stdout",
     "output_type": "stream",
     "text": [
      "At random state :-- 83\n",
      "Maximum r2 score is 0.6525\n",
      "cross validation score 0.57\n",
      "Standard Deviation 0.02\n",
      "Training accuracy 0.6\n",
      "Test Accuracy 0.49\n",
      "MAE 1.49\n",
      "MSE 3.25\n",
      "RMSE 1.8\n"
     ]
    }
   ],
   "source": [
    "step1 = ColumnTransformer(transformers=[\n",
    "    ('Scaler',StandardScaler(),slice(0,X.shape[1]+1))\n",
    "],remainder='passthrough')\n",
    "\n",
    "step2 = AdaBoostRegressor()\n",
    "\n",
    "pipe = Pipeline([\n",
    "    ('step1',step1),\n",
    "    ('step2',step2)\n",
    "])\n",
    "\n",
    "Best_model(pipe,X,y)"
   ]
  },
  {
   "cell_type": "markdown",
   "metadata": {},
   "source": [
    "# GradientBoostingRegressor"
   ]
  },
  {
   "cell_type": "code",
   "execution_count": 151,
   "metadata": {},
   "outputs": [
    {
     "name": "stdout",
     "output_type": "stream",
     "text": [
      "At random state :-- 51\n",
      "Maximum r2 score is 0.704\n",
      "cross validation score 0.62\n",
      "Standard Deviation 0.04\n",
      "Training accuracy 0.78\n",
      "Test Accuracy 0.56\n",
      "MAE 1.29\n",
      "MSE 2.76\n",
      "RMSE 1.66\n"
     ]
    }
   ],
   "source": [
    "step1 = ColumnTransformer(transformers=[\n",
    "    ('Scaler',StandardScaler(),slice(0,X.shape[1]+1))\n",
    "],remainder='passthrough')\n",
    "\n",
    "step2 = GradientBoostingRegressor()\n",
    "\n",
    "pipe = Pipeline([\n",
    "    ('step1',step1),\n",
    "    ('step2',step2)\n",
    "])\n",
    "\n",
    "Best_model(pipe,X,y)"
   ]
  },
  {
   "cell_type": "markdown",
   "metadata": {},
   "source": [
    "# ExtraTreesRegressor"
   ]
  },
  {
   "cell_type": "code",
   "execution_count": 152,
   "metadata": {},
   "outputs": [
    {
     "name": "stdout",
     "output_type": "stream",
     "text": [
      "At random state :-- 76\n",
      "Maximum r2 score is 0.6706\n",
      "cross validation score 0.55\n",
      "Standard Deviation 0.04\n",
      "Training accuracy 0.98\n",
      "Test Accuracy 0.51\n",
      "MAE 1.3\n",
      "MSE 3.08\n",
      "RMSE 1.76\n"
     ]
    }
   ],
   "source": [
    "step1 = ColumnTransformer(transformers=[\n",
    "    ('Scaler',StandardScaler(),slice(0,X.shape[1]+1))\n",
    "],remainder='passthrough')\n",
    "\n",
    "step2 = ExtraTreesRegressor()\n",
    "\n",
    "pipe = Pipeline([\n",
    "    ('step1',step1),\n",
    "    ('step2',step2)\n",
    "])\n",
    "\n",
    "Best_model(pipe,X,y)"
   ]
  },
  {
   "cell_type": "markdown",
   "metadata": {},
   "source": [
    "# BaggingRegressor"
   ]
  },
  {
   "cell_type": "code",
   "execution_count": 153,
   "metadata": {},
   "outputs": [
    {
     "name": "stdout",
     "output_type": "stream",
     "text": [
      "At random state :-- 83\n",
      "Maximum r2 score is 0.6954\n",
      "cross validation score 0.57\n",
      "Standard Deviation 0.03\n",
      "Training accuracy 0.92\n",
      "Test Accuracy 0.51\n",
      "MAE 1.32\n",
      "MSE 3.09\n",
      "RMSE 1.76\n"
     ]
    }
   ],
   "source": [
    "step1 = ColumnTransformer(transformers=[\n",
    "    ('Scaler',StandardScaler(),slice(0,X.shape[1]+1))\n",
    "],remainder='passthrough')\n",
    "\n",
    "step2 = BaggingRegressor()\n",
    "\n",
    "pipe = Pipeline([\n",
    "    ('step1',step1),\n",
    "    ('step2',step2)\n",
    "])\n",
    "\n",
    "Best_model(pipe,X,y)"
   ]
  },
  {
   "cell_type": "markdown",
   "metadata": {},
   "source": [
    "# BaggingRegressor with base model Gradientboosting"
   ]
  },
  {
   "cell_type": "code",
   "execution_count": 154,
   "metadata": {},
   "outputs": [
    {
     "name": "stdout",
     "output_type": "stream",
     "text": [
      "At random state :-- 83\n",
      "Maximum r2 score is 0.7147\n",
      "cross validation score 0.62\n",
      "Standard Deviation 0.03\n",
      "Training accuracy 0.77\n",
      "Test Accuracy 0.57\n",
      "MAE 1.3\n",
      "MSE 2.74\n",
      "RMSE 1.65\n"
     ]
    }
   ],
   "source": [
    "step1 = ColumnTransformer(transformers=[\n",
    "    ('Scaler',StandardScaler(),slice(0,X.shape[1]+1))\n",
    "],remainder='passthrough')\n",
    "\n",
    "step2 = BaggingRegressor(base_estimator=GradientBoostingRegressor())\n",
    "\n",
    "pipe = Pipeline([\n",
    "    ('step1',step1),\n",
    "    ('step2',step2)\n",
    "])\n",
    "\n",
    "Best_model(pipe,X,y)"
   ]
  },
  {
   "cell_type": "markdown",
   "metadata": {},
   "source": [
    "# Selecting gradient boosting as a best performing model"
   ]
  },
  {
   "cell_type": "code",
   "execution_count": 230,
   "metadata": {
    "scrolled": true
   },
   "outputs": [
    {
     "name": "stdout",
     "output_type": "stream",
     "text": [
      "100\n",
      "Training accuracy 0.61\n",
      "Test Accuracy     0.57\n",
      "\n",
      "cross validation score 0.62\n"
     ]
    }
   ],
   "source": [
    "step1 = ColumnTransformer(transformers=[\n",
    "    ('Scaler',StandardScaler(),slice(0,X.shape[1]+1))\n",
    "],remainder='passthrough')\n",
    "\n",
    "step2 = GradientBoostingRegressor(random_state=0)\n",
    "\n",
    "pipe = Pipeline([\n",
    "    ('step1',step1),\n",
    "    ('step2',step2)\n",
    "])\n",
    "# for i in range(0,101):\n",
    "X_train,X_test,y_train,y_test=train_test_split(X,y,test_size=.20,random_state=20)\n",
    "pipe.fit(X_train,y_train)\n",
    "y_pred=pipe.predict(X_test)\n",
    "y_train_pred = pipe.predict(X_train)\n",
    "print(i)\n",
    "print('Training accuracy',round(r2_score(y_train_pred,y_train),2))\n",
    "print('Test Accuracy    ',round(r2_score(y_pred,y_test),2))\n",
    "print()\n",
    "print('cross validation score',round(cross_val_score(pipe,X,y,scoring='r2').mean(),2))\n",
    "    "
   ]
  },
  {
   "cell_type": "markdown",
   "metadata": {},
   "source": [
    "# hyper parameter tuning"
   ]
  },
  {
   "cell_type": "code",
   "execution_count": 256,
   "metadata": {},
   "outputs": [],
   "source": [
    "params = {\n",
    "    \"step2__max_depth\":[5,6],\n",
    "    \"step2__learning_rate\":[0.07,0.08],\n",
    "    \"step2__max_features\":[.4,.5,]\n",
    "}"
   ]
  },
  {
   "cell_type": "code",
   "execution_count": 257,
   "metadata": {},
   "outputs": [],
   "source": [
    "randomscv = RandomizedSearchCV(pipe , params,scoring='r2',n_jobs=-1,cv=10,random_state=42)"
   ]
  },
  {
   "cell_type": "code",
   "execution_count": 258,
   "metadata": {},
   "outputs": [
    {
     "data": {
      "text/plain": [
       "RandomizedSearchCV(cv=10,\n",
       "                   estimator=Pipeline(steps=[('step1',\n",
       "                                              ColumnTransformer(remainder='passthrough',\n",
       "                                                                transformers=[('Scaler',\n",
       "                                                                               StandardScaler(),\n",
       "                                                                               slice(0, 12, None))])),\n",
       "                                             ('step2',\n",
       "                                              GradientBoostingRegressor(criterion='mae',\n",
       "                                                                        learning_rate=0.08,\n",
       "                                                                        max_depth=5,\n",
       "                                                                        max_features=0.5,\n",
       "                                                                        random_state=0))]),\n",
       "                   n_jobs=-1,\n",
       "                   param_distributions={'step2__learning_rate': [0.07, 0.08],\n",
       "                                        'step2__max_depth': [5, 6],\n",
       "                                        'step2__max_features': [0.4, 0.5]},\n",
       "                   random_state=42, scoring='r2')"
      ]
     },
     "execution_count": 258,
     "metadata": {},
     "output_type": "execute_result"
    }
   ],
   "source": [
    "randomscv.fit(X,y)"
   ]
  },
  {
   "cell_type": "code",
   "execution_count": 259,
   "metadata": {},
   "outputs": [
    {
     "data": {
      "text/plain": [
       "{'step2__max_features': 0.5,\n",
       " 'step2__max_depth': 5,\n",
       " 'step2__learning_rate': 0.08}"
      ]
     },
     "execution_count": 259,
     "metadata": {},
     "output_type": "execute_result"
    }
   ],
   "source": [
    "randomscv.best_params_"
   ]
  },
  {
   "cell_type": "code",
   "execution_count": 261,
   "metadata": {},
   "outputs": [
    {
     "name": "stdout",
     "output_type": "stream",
     "text": [
      "Training accuracy 0.79\n",
      "Test Accuracy 0.7\n",
      "cross validation score 0.62\n",
      "Standard Deviation 0.04\n",
      "MAE 1.05\n",
      "MSE 2.02\n",
      "RMSE 1.42\n"
     ]
    }
   ],
   "source": [
    "step1 = ColumnTransformer(transformers=[\n",
    "    ('Scaler',StandardScaler(),slice(0,X.shape[1]+1))\n",
    "],remainder='passthrough')\n",
    "\n",
    "step2 = GradientBoostingRegressor(max_depth=5,learning_rate=0.08,max_features=.5,random_state=0)\n",
    "\n",
    "pipe = Pipeline([\n",
    "    ('step1',step1),\n",
    "    ('step2',step2)\n",
    "])\n",
    "X_train,X_test,y_train,y_test=train_test_split(X,y,test_size=.20,random_state=20)\n",
    "pipe.fit(X_train,y_train)\n",
    "y_pred=pipe.predict(X_test)\n",
    "y_train_pred = pipe.predict(X_train)\n",
    "\n",
    "print('Training accuracy',round(pipe.score(X_train,y_train),2))\n",
    "print('Test Accuracy',round(pipe.score(X_test,y_test),2))\n",
    "print('cross validation score',round(cross_val_score(pipe,X,y,scoring='r2').mean(),2))\n",
    "print('Standard Deviation',round(cross_val_score(pipe,X,y,scoring='r2').std(),2))\n",
    "print('MAE',round(mean_absolute_error(y_test,y_pred),2))\n",
    "print('MSE',round(mean_squared_error(y_test,y_pred),2))\n",
    "print('RMSE',round(np.sqrt(mean_squared_error(y_test,y_pred)),2))"
   ]
  },
  {
   "cell_type": "markdown",
   "metadata": {},
   "source": [
    "After hyper parameter tuning r2 score is increased and final r2 score is 70%. "
   ]
  },
  {
   "cell_type": "markdown",
   "metadata": {},
   "source": [
    "# model saving"
   ]
  },
  {
   "cell_type": "code",
   "execution_count": 262,
   "metadata": {},
   "outputs": [],
   "source": [
    "pickle.dump(pipe,open('Global_pp_regression.pkl','wb'))"
   ]
  },
  {
   "cell_type": "markdown",
   "metadata": {},
   "source": [
    "# Predictions"
   ]
  },
  {
   "cell_type": "code",
   "execution_count": 263,
   "metadata": {},
   "outputs": [
    {
     "data": {
      "text/html": [
       "<div>\n",
       "<style scoped>\n",
       "    .dataframe tbody tr th:only-of-type {\n",
       "        vertical-align: middle;\n",
       "    }\n",
       "\n",
       "    .dataframe tbody tr th {\n",
       "        vertical-align: top;\n",
       "    }\n",
       "\n",
       "    .dataframe thead th {\n",
       "        text-align: right;\n",
       "    }\n",
       "</style>\n",
       "<table border=\"1\" class=\"dataframe\">\n",
       "  <thead>\n",
       "    <tr style=\"text-align: right;\">\n",
       "      <th></th>\n",
       "      <th>Original_values</th>\n",
       "      <th>predicted_values</th>\n",
       "    </tr>\n",
       "  </thead>\n",
       "  <tbody>\n",
       "    <tr>\n",
       "      <th>0</th>\n",
       "      <td>9.218679</td>\n",
       "      <td>8.288538</td>\n",
       "    </tr>\n",
       "    <tr>\n",
       "      <th>1</th>\n",
       "      <td>8.158618</td>\n",
       "      <td>5.315870</td>\n",
       "    </tr>\n",
       "    <tr>\n",
       "      <th>2</th>\n",
       "      <td>5.281840</td>\n",
       "      <td>4.547984</td>\n",
       "    </tr>\n",
       "    <tr>\n",
       "      <th>3</th>\n",
       "      <td>3.035441</td>\n",
       "      <td>2.199986</td>\n",
       "    </tr>\n",
       "    <tr>\n",
       "      <th>4</th>\n",
       "      <td>9.218679</td>\n",
       "      <td>8.320353</td>\n",
       "    </tr>\n",
       "    <tr>\n",
       "      <th>...</th>\n",
       "      <td>...</td>\n",
       "      <td>...</td>\n",
       "    </tr>\n",
       "    <tr>\n",
       "      <th>177</th>\n",
       "      <td>1.396745</td>\n",
       "      <td>4.312162</td>\n",
       "    </tr>\n",
       "    <tr>\n",
       "      <th>178</th>\n",
       "      <td>4.141241</td>\n",
       "      <td>4.413733</td>\n",
       "    </tr>\n",
       "    <tr>\n",
       "      <th>179</th>\n",
       "      <td>7.442406</td>\n",
       "      <td>6.669700</td>\n",
       "    </tr>\n",
       "    <tr>\n",
       "      <th>180</th>\n",
       "      <td>4.619392</td>\n",
       "      <td>3.961290</td>\n",
       "    </tr>\n",
       "    <tr>\n",
       "      <th>181</th>\n",
       "      <td>3.928031</td>\n",
       "      <td>3.943372</td>\n",
       "    </tr>\n",
       "  </tbody>\n",
       "</table>\n",
       "<p>182 rows × 2 columns</p>\n",
       "</div>"
      ],
      "text/plain": [
       "     Original_values  predicted_values\n",
       "0           9.218679          8.288538\n",
       "1           8.158618          5.315870\n",
       "2           5.281840          4.547984\n",
       "3           3.035441          2.199986\n",
       "4           9.218679          8.320353\n",
       "..               ...               ...\n",
       "177         1.396745          4.312162\n",
       "178         4.141241          4.413733\n",
       "179         7.442406          6.669700\n",
       "180         4.619392          3.961290\n",
       "181         3.928031          3.943372\n",
       "\n",
       "[182 rows x 2 columns]"
      ]
     },
     "execution_count": 263,
     "metadata": {},
     "output_type": "execute_result"
    }
   ],
   "source": [
    "original_values  = np.array(y_test)\n",
    "predicted_values = np.array(pipe.predict(X_test))\n",
    "values = pd.DataFrame({'Original_values':original_values , 'predicted_values':predicted_values})\n",
    "values"
   ]
  },
  {
   "cell_type": "code",
   "execution_count": null,
   "metadata": {},
   "outputs": [],
   "source": []
  }
 ],
 "metadata": {
  "kernelspec": {
   "display_name": "Python 3",
   "language": "python",
   "name": "python3"
  },
  "language_info": {
   "codemirror_mode": {
    "name": "ipython",
    "version": 3
   },
   "file_extension": ".py",
   "mimetype": "text/x-python",
   "name": "python",
   "nbconvert_exporter": "python",
   "pygments_lexer": "ipython3",
   "version": "3.8.5"
  }
 },
 "nbformat": 4,
 "nbformat_minor": 4
}
